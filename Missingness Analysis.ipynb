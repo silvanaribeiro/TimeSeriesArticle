{
 "cells": [
  {
   "cell_type": "code",
   "execution_count": 1,
   "metadata": {},
   "outputs": [],
   "source": [
    "import pandas as pd\n",
    "import numpy as np\n",
    "import seaborn as sns\n",
    "import matplotlib.pyplot as plt\n",
    "from datetime import date, datetime\n",
    "import holidays\n",
    "v_directory = 'Artigo/Analise de Sentimento/TimeSeriesArticle'"
   ]
  },
  {
   "cell_type": "markdown",
   "metadata": {},
   "source": [
    "# Analysis for S&P500 index"
   ]
  },
  {
   "cell_type": "markdown",
   "metadata": {},
   "source": [
    "### Are there missing values on the original data?"
   ]
  },
  {
   "cell_type": "code",
   "execution_count": 2,
   "metadata": {},
   "outputs": [
    {
     "data": {
      "text/html": [
       "<div>\n",
       "<style scoped>\n",
       "    .dataframe tbody tr th:only-of-type {\n",
       "        vertical-align: middle;\n",
       "    }\n",
       "\n",
       "    .dataframe tbody tr th {\n",
       "        vertical-align: top;\n",
       "    }\n",
       "\n",
       "    .dataframe thead th {\n",
       "        text-align: right;\n",
       "    }\n",
       "</style>\n",
       "<table border=\"1\" class=\"dataframe\">\n",
       "  <thead>\n",
       "    <tr style=\"text-align: right;\">\n",
       "      <th></th>\n",
       "      <th>Date</th>\n",
       "      <th>Open</th>\n",
       "      <th>High</th>\n",
       "      <th>Low</th>\n",
       "      <th>Close</th>\n",
       "      <th>Adj Close</th>\n",
       "      <th>Volume</th>\n",
       "    </tr>\n",
       "  </thead>\n",
       "  <tbody>\n",
       "    <tr>\n",
       "      <th>5079</th>\n",
       "      <td>2020-03-12</td>\n",
       "      <td>2630.860107</td>\n",
       "      <td>2660.949951</td>\n",
       "      <td>2478.860107</td>\n",
       "      <td>2480.639893</td>\n",
       "      <td>2480.639893</td>\n",
       "      <td>8829380000</td>\n",
       "    </tr>\n",
       "    <tr>\n",
       "      <th>5080</th>\n",
       "      <td>2020-03-13</td>\n",
       "      <td>2569.989990</td>\n",
       "      <td>2711.330078</td>\n",
       "      <td>2492.370117</td>\n",
       "      <td>2711.020020</td>\n",
       "      <td>2711.020020</td>\n",
       "      <td>8258670000</td>\n",
       "    </tr>\n",
       "    <tr>\n",
       "      <th>5081</th>\n",
       "      <td>2020-03-16</td>\n",
       "      <td>2508.590088</td>\n",
       "      <td>2562.979980</td>\n",
       "      <td>2380.939941</td>\n",
       "      <td>2386.129883</td>\n",
       "      <td>2386.129883</td>\n",
       "      <td>7781540000</td>\n",
       "    </tr>\n",
       "    <tr>\n",
       "      <th>5082</th>\n",
       "      <td>2020-03-17</td>\n",
       "      <td>2425.659912</td>\n",
       "      <td>2553.929932</td>\n",
       "      <td>2367.040039</td>\n",
       "      <td>2529.189941</td>\n",
       "      <td>2529.189941</td>\n",
       "      <td>8358500000</td>\n",
       "    </tr>\n",
       "    <tr>\n",
       "      <th>5083</th>\n",
       "      <td>2020-03-18</td>\n",
       "      <td>2436.500000</td>\n",
       "      <td>2453.570068</td>\n",
       "      <td>2280.520020</td>\n",
       "      <td>2398.100098</td>\n",
       "      <td>2398.100098</td>\n",
       "      <td>8755780000</td>\n",
       "    </tr>\n",
       "  </tbody>\n",
       "</table>\n",
       "</div>"
      ],
      "text/plain": [
       "            Date         Open         High          Low        Close  \\\n",
       "5079  2020-03-12  2630.860107  2660.949951  2478.860107  2480.639893   \n",
       "5080  2020-03-13  2569.989990  2711.330078  2492.370117  2711.020020   \n",
       "5081  2020-03-16  2508.590088  2562.979980  2380.939941  2386.129883   \n",
       "5082  2020-03-17  2425.659912  2553.929932  2367.040039  2529.189941   \n",
       "5083  2020-03-18  2436.500000  2453.570068  2280.520020  2398.100098   \n",
       "\n",
       "        Adj Close      Volume  \n",
       "5079  2480.639893  8829380000  \n",
       "5080  2711.020020  8258670000  \n",
       "5081  2386.129883  7781540000  \n",
       "5082  2529.189941  8358500000  \n",
       "5083  2398.100098  8755780000  "
      ]
     },
     "execution_count": 2,
     "metadata": {},
     "output_type": "execute_result"
    }
   ],
   "source": [
    "v_sp500 = pd.read_csv('S&P500.csv', parse_dates=True)\n",
    "v_sp500.tail()"
   ]
  },
  {
   "cell_type": "code",
   "execution_count": 3,
   "metadata": {},
   "outputs": [
    {
     "data": {
      "text/plain": [
       "5084"
      ]
     },
     "execution_count": 3,
     "metadata": {},
     "output_type": "execute_result"
    }
   ],
   "source": [
    "len(v_sp500)"
   ]
  },
  {
   "cell_type": "code",
   "execution_count": 4,
   "metadata": {},
   "outputs": [],
   "source": [
    "at_least_one_value_missing = v_sp500.apply(lambda x: (len(x)-x.count())>=1, axis=1)"
   ]
  },
  {
   "cell_type": "code",
   "execution_count": 5,
   "metadata": {},
   "outputs": [
    {
     "data": {
      "text/plain": [
       "False    5084\n",
       "dtype: int64"
      ]
     },
     "execution_count": 5,
     "metadata": {},
     "output_type": "execute_result"
    }
   ],
   "source": [
    "at_least_one_value_missing.value_counts()"
   ]
  },
  {
   "cell_type": "markdown",
   "metadata": {},
   "source": [
    "#### There are no missing values on the original data.\n",
    "### Are there missing days on the original data?"
   ]
  },
  {
   "cell_type": "code",
   "execution_count": 6,
   "metadata": {},
   "outputs": [],
   "source": [
    "business_dates = pd.bdate_range(start='2000-01-03', end='2020-03-18').date\n",
    "business_dates = business_dates.tolist()"
   ]
  },
  {
   "cell_type": "code",
   "execution_count": 7,
   "metadata": {},
   "outputs": [
    {
     "data": {
      "text/plain": [
       "5273"
      ]
     },
     "execution_count": 7,
     "metadata": {},
     "output_type": "execute_result"
    }
   ],
   "source": [
    "num_business_days = len(business_dates)\n",
    "num_business_days"
   ]
  },
  {
   "cell_type": "code",
   "execution_count": 8,
   "metadata": {},
   "outputs": [
    {
     "data": {
      "text/plain": [
       "189"
      ]
     },
     "execution_count": 8,
     "metadata": {},
     "output_type": "execute_result"
    }
   ],
   "source": [
    "difference = num_business_days-len(v_sp500)\n",
    "difference"
   ]
  },
  {
   "cell_type": "markdown",
   "metadata": {},
   "source": [
    "#### There are 189 missing business days on the data.\n",
    "### Are those holidays? \n",
    "#### It is possible, since there are 20 years of data and approximately 10 holidays per year in the USA, and a few might have happened in weekends (that are already not being considered)"
   ]
  },
  {
   "cell_type": "code",
   "execution_count": 9,
   "metadata": {},
   "outputs": [],
   "source": [
    "dates = list()\n",
    "years = list(range(2000,2021))\n",
    "us_holidays = holidays.UnitedStates(years = years, expand = False, observed=False)\n",
    "#us_holidays"
   ]
  },
  {
   "cell_type": "code",
   "execution_count": 10,
   "metadata": {},
   "outputs": [],
   "source": [
    "us_holidays[datetime(2019,4,19)] = 'Good Friday'\n",
    "us_holidays[datetime(2018,12,5)] = 'Mourning Bush'\n",
    "us_holidays[datetime(2018,3,30)] = 'Good Friday'\n",
    "us_holidays[datetime(2017,4,14)] = 'Good Friday'\n",
    "us_holidays[datetime(2017,1,2)] = \"New Year's\"\n",
    "us_holidays[datetime(2016,3,25)] = 'Good Friday'\n",
    "us_holidays[datetime(2016,12,26)] = 'Christmas'\n",
    "us_holidays[datetime(2015,7,3)] = 'Independence Day'\n",
    "us_holidays[datetime(2015,4,3)] = 'Good Friday'\n",
    "us_holidays[datetime(2019,4,19)] = 'Good Friday'\n",
    "us_holidays[datetime(2014,4,18)] = 'Good Friday'\n",
    "us_holidays[datetime(2013,3,29)] = 'Good Friday'\n",
    "us_holidays[datetime(2012,10,30)] = 'Hurricane Sandy'\n",
    "us_holidays[datetime(2012,10,29)] = 'Hurricane Sandy'\n",
    "us_holidays[datetime(2012,4,6)] = 'Good Friday'\n",
    "us_holidays[datetime(2012,1,2)] = \"New Year's\"\n",
    "us_holidays[datetime(2011,12,26)] = 'Christmas'\n",
    "us_holidays[datetime(2011,4,22)] = 'Good Friday'\n",
    "us_holidays[datetime(2010,12,24)] = 'Christmas'\n",
    "us_holidays[datetime(2010,7,5)] = 'Independence Day'\n",
    "us_holidays[datetime(2010,4,2)] = 'Good Friday'\n",
    "us_holidays[datetime(2009,7,3)] = 'Independence Day'\n",
    "us_holidays[datetime(2009,4,10)] = 'Good Friday'\n",
    "us_holidays[datetime(2008,3,21)] = 'Good Friday'\n",
    "us_holidays[datetime(2007,4,6)] = 'Good Friday'\n",
    "us_holidays[datetime(2007,1,2)] = 'Mourning Ford'\n",
    "us_holidays[datetime(2006,4,14)] = 'Good Friday'\n",
    "us_holidays[datetime(2006,1,2)] = \"New Year's\"\n",
    "us_holidays[datetime(2005,12,26)] = 'Christmas'\n",
    "us_holidays[datetime(2005,3,25)] = 'Good Friday'\n",
    "us_holidays[datetime(2004,12,24)] = 'Christmas'\n",
    "us_holidays[datetime(2004,7,5)] = 'Independence Day'\n",
    "us_holidays[datetime(2004,6,11)] = 'Mourning Reagan'\n",
    "us_holidays[datetime(2004,4,9)] = 'Good Friday'\n",
    "us_holidays[datetime(2003,4,18)] = 'Good Friday'\n",
    "us_holidays[datetime(2002,3,29)] = 'Good Friday'\n",
    "us_holidays[datetime(2001,9,14)] = '9-11'\n",
    "us_holidays[datetime(2001,9,13)] = '9-11'\n",
    "us_holidays[datetime(2001,9,12)] = '9-11'\n",
    "us_holidays[datetime(2001,9,11)] = '9-11'\n",
    "us_holidays[datetime(2001,4,13)] = 'Good Friday'\n",
    "us_holidays[datetime(2000,4,21)] = 'Good Friday'\n"
   ]
  },
  {
   "cell_type": "code",
   "execution_count": 11,
   "metadata": {},
   "outputs": [
    {
     "name": "stdout",
     "output_type": "stream",
     "text": [
      "Holiday 2000-01-17\n",
      "Holiday 2000-02-21\n",
      "Holiday 2000-04-21\n",
      "Holiday 2000-05-29\n",
      "Holiday 2000-07-04\n",
      "Holiday 2000-09-04\n",
      "Holiday 2000-10-09\n",
      "Holiday 2000-11-23\n",
      "Holiday 2000-12-25\n",
      "Holiday 2001-01-01\n",
      "Holiday 2001-01-15\n",
      "Holiday 2001-02-19\n",
      "Holiday 2001-04-13\n",
      "Holiday 2001-05-28\n",
      "Holiday 2001-07-04\n",
      "Holiday 2001-09-03\n",
      "Holiday 2001-09-11\n",
      "Holiday 2001-09-12\n",
      "Holiday 2001-09-13\n",
      "Holiday 2001-09-14\n",
      "Holiday 2001-10-08\n",
      "Holiday 2001-11-22\n",
      "Holiday 2001-12-25\n",
      "Holiday 2002-01-01\n",
      "Holiday 2002-01-21\n",
      "Holiday 2002-02-18\n",
      "Holiday 2002-03-29\n",
      "Holiday 2002-05-27\n",
      "Holiday 2002-07-04\n",
      "Holiday 2002-09-02\n",
      "Holiday 2002-10-14\n",
      "Holiday 2002-11-11\n",
      "Holiday 2002-11-28\n",
      "Holiday 2002-12-25\n",
      "Holiday 2003-01-01\n",
      "Holiday 2003-01-20\n",
      "Holiday 2003-02-17\n",
      "Holiday 2003-04-18\n",
      "Holiday 2003-05-26\n",
      "Holiday 2003-07-04\n",
      "Holiday 2003-09-01\n",
      "Holiday 2003-10-13\n",
      "Holiday 2003-11-11\n",
      "Holiday 2003-11-27\n",
      "Holiday 2003-12-25\n",
      "Holiday 2004-01-01\n",
      "Holiday 2004-01-19\n",
      "Holiday 2004-02-16\n",
      "Holiday 2004-04-09\n",
      "Holiday 2004-05-31\n",
      "Holiday 2004-06-11\n",
      "Holiday 2004-07-05\n",
      "Holiday 2004-09-06\n",
      "Holiday 2004-10-11\n",
      "Holiday 2004-11-11\n",
      "Holiday 2004-11-25\n",
      "Holiday 2004-12-24\n",
      "Holiday 2005-01-17\n",
      "Holiday 2005-02-21\n",
      "Holiday 2005-03-25\n",
      "Holiday 2005-05-30\n",
      "Holiday 2005-07-04\n",
      "Holiday 2005-09-05\n",
      "Holiday 2005-10-10\n",
      "Holiday 2005-11-11\n",
      "Holiday 2005-11-24\n",
      "Holiday 2005-12-26\n",
      "Holiday 2006-01-02\n",
      "Holiday 2006-01-16\n",
      "Holiday 2006-02-20\n",
      "Holiday 2006-04-14\n",
      "Holiday 2006-05-29\n",
      "Holiday 2006-07-04\n",
      "Holiday 2006-09-04\n",
      "Holiday 2006-10-09\n",
      "Holiday 2006-11-23\n",
      "Holiday 2006-12-25\n",
      "Holiday 2007-01-01\n",
      "Holiday 2007-01-02\n",
      "Holiday 2007-01-15\n",
      "Holiday 2007-02-19\n",
      "Holiday 2007-04-06\n",
      "Holiday 2007-05-28\n",
      "Holiday 2007-07-04\n",
      "Holiday 2007-09-03\n",
      "Holiday 2007-10-08\n",
      "Holiday 2007-11-22\n",
      "Holiday 2007-12-25\n",
      "Holiday 2008-01-01\n",
      "Holiday 2008-01-21\n",
      "Holiday 2008-02-18\n",
      "Holiday 2008-03-21\n",
      "Holiday 2008-05-26\n",
      "Holiday 2008-07-04\n",
      "Holiday 2008-09-01\n",
      "Holiday 2008-10-13\n",
      "Holiday 2008-11-11\n",
      "Holiday 2008-11-27\n",
      "Holiday 2008-12-25\n",
      "Holiday 2009-01-01\n",
      "Holiday 2009-01-19\n",
      "Holiday 2009-02-16\n",
      "Holiday 2009-04-10\n",
      "Holiday 2009-05-25\n",
      "Holiday 2009-07-03\n",
      "Holiday 2009-09-07\n",
      "Holiday 2009-10-12\n",
      "Holiday 2009-11-11\n",
      "Holiday 2009-11-26\n",
      "Holiday 2009-12-25\n",
      "Holiday 2010-01-01\n",
      "Holiday 2010-01-18\n",
      "Holiday 2010-02-15\n",
      "Holiday 2010-04-02\n",
      "Holiday 2010-05-31\n",
      "Holiday 2010-07-05\n",
      "Holiday 2010-09-06\n",
      "Holiday 2010-10-11\n",
      "Holiday 2010-11-11\n",
      "Holiday 2010-11-25\n",
      "Holiday 2010-12-24\n",
      "Holiday 2011-01-17\n",
      "Holiday 2011-02-21\n",
      "Holiday 2011-04-22\n",
      "Holiday 2011-05-30\n",
      "Holiday 2011-07-04\n",
      "Holiday 2011-09-05\n",
      "Holiday 2011-10-10\n",
      "Holiday 2011-11-11\n",
      "Holiday 2011-11-24\n",
      "Holiday 2011-12-26\n",
      "Holiday 2012-01-02\n",
      "Holiday 2012-01-16\n",
      "Holiday 2012-02-20\n",
      "Holiday 2012-04-06\n",
      "Holiday 2012-05-28\n",
      "Holiday 2012-07-04\n",
      "Holiday 2012-09-03\n",
      "Holiday 2012-10-08\n",
      "Holiday 2012-10-29\n",
      "Holiday 2012-10-30\n",
      "Holiday 2012-11-22\n",
      "Holiday 2012-12-25\n",
      "Holiday 2013-01-01\n",
      "Holiday 2013-01-21\n",
      "Holiday 2013-02-18\n",
      "Holiday 2013-03-29\n",
      "Holiday 2013-05-27\n",
      "Holiday 2013-07-04\n",
      "Holiday 2013-09-02\n",
      "Holiday 2013-10-14\n",
      "Holiday 2013-11-11\n",
      "Holiday 2013-11-28\n",
      "Holiday 2013-12-25\n",
      "Holiday 2014-01-01\n",
      "Holiday 2014-01-20\n",
      "Holiday 2014-02-17\n",
      "Holiday 2014-04-18\n",
      "Holiday 2014-05-26\n",
      "Holiday 2014-07-04\n",
      "Holiday 2014-09-01\n",
      "Holiday 2014-10-13\n",
      "Holiday 2014-11-11\n",
      "Holiday 2014-11-27\n",
      "Holiday 2014-12-25\n",
      "Holiday 2015-01-01\n",
      "Holiday 2015-01-19\n",
      "Holiday 2015-02-16\n",
      "Holiday 2015-04-03\n",
      "Holiday 2015-05-25\n",
      "Holiday 2015-07-03\n",
      "Holiday 2015-09-07\n",
      "Holiday 2015-10-12\n",
      "Holiday 2015-11-11\n",
      "Holiday 2015-11-26\n",
      "Holiday 2015-12-25\n",
      "Holiday 2016-01-01\n",
      "Holiday 2016-01-18\n",
      "Holiday 2016-02-15\n",
      "Holiday 2016-03-25\n",
      "Holiday 2016-05-30\n",
      "Holiday 2016-07-04\n",
      "Holiday 2016-09-05\n",
      "Holiday 2016-10-10\n",
      "Holiday 2016-11-11\n",
      "Holiday 2016-11-24\n",
      "Holiday 2016-12-26\n",
      "Holiday 2017-01-02\n",
      "Holiday 2017-01-16\n",
      "Holiday 2017-02-20\n",
      "Holiday 2017-04-14\n",
      "Holiday 2017-05-29\n",
      "Holiday 2017-07-04\n",
      "Holiday 2017-09-04\n",
      "Holiday 2017-10-09\n",
      "Holiday 2017-11-23\n",
      "Holiday 2017-12-25\n",
      "Holiday 2018-01-01\n",
      "Holiday 2018-01-15\n",
      "Holiday 2018-02-19\n",
      "Holiday 2018-03-30\n",
      "Holiday 2018-05-28\n",
      "Holiday 2018-07-04\n",
      "Holiday 2018-09-03\n",
      "Holiday 2018-10-08\n",
      "Holiday 2018-11-22\n",
      "Holiday 2018-12-05\n",
      "Holiday 2018-12-25\n",
      "Holiday 2019-01-01\n",
      "Holiday 2019-01-21\n",
      "Holiday 2019-02-18\n",
      "Holiday 2019-04-19\n",
      "Holiday 2019-05-27\n",
      "Holiday 2019-07-04\n",
      "Holiday 2019-09-02\n",
      "Holiday 2019-10-14\n",
      "Holiday 2019-11-11\n",
      "Holiday 2019-11-28\n",
      "Holiday 2019-12-25\n",
      "Holiday 2020-01-01\n",
      "Holiday 2020-01-20\n",
      "Holiday 2020-02-17\n"
     ]
    }
   ],
   "source": [
    "for date in business_dates:\n",
    "    if(date not in list(us_holidays.keys())):\n",
    "        dates.append(date)\n",
    "        #print(\"Not Holiday\", date) \n",
    "    else:\n",
    "        print(\"Holiday\", date) "
   ]
  },
  {
   "cell_type": "code",
   "execution_count": 12,
   "metadata": {},
   "outputs": [
    {
     "data": {
      "text/plain": [
       "5051"
      ]
     },
     "execution_count": 12,
     "metadata": {},
     "output_type": "execute_result"
    }
   ],
   "source": [
    "len(dates)"
   ]
  },
  {
   "cell_type": "code",
   "execution_count": 13,
   "metadata": {},
   "outputs": [
    {
     "data": {
      "text/plain": [
       "222"
      ]
     },
     "execution_count": 13,
     "metadata": {},
     "output_type": "execute_result"
    }
   ],
   "source": [
    "num_business_days-len(dates)"
   ]
  },
  {
   "cell_type": "code",
   "execution_count": 14,
   "metadata": {},
   "outputs": [
    {
     "data": {
      "text/plain": [
       "33"
      ]
     },
     "execution_count": 14,
     "metadata": {},
     "output_type": "execute_result"
    }
   ],
   "source": [
    "len(v_sp500)-len(dates)"
   ]
  },
  {
   "cell_type": "markdown",
   "metadata": {},
   "source": [
    "### Dates present in sp500 but not on our list date"
   ]
  },
  {
   "cell_type": "code",
   "execution_count": 15,
   "metadata": {
    "scrolled": true
   },
   "outputs": [
    {
     "name": "stdout",
     "output_type": "stream",
     "text": [
      "2000-10-09\n",
      "2001-10-08\n",
      "2002-10-14\n",
      "2002-11-11\n",
      "2003-10-13\n",
      "2003-11-11\n",
      "2004-10-11\n",
      "2004-11-11\n",
      "2005-10-10\n",
      "2005-11-11\n",
      "2006-10-09\n",
      "2007-10-08\n",
      "2008-10-13\n",
      "2008-11-11\n",
      "2009-10-12\n",
      "2009-11-11\n",
      "2010-10-11\n",
      "2010-11-11\n",
      "2011-10-10\n",
      "2011-11-11\n",
      "2012-10-08\n",
      "2013-10-14\n",
      "2013-11-11\n",
      "2014-10-13\n",
      "2014-11-11\n",
      "2015-10-12\n",
      "2015-11-11\n",
      "2016-10-10\n",
      "2016-11-11\n",
      "2017-10-09\n",
      "2018-10-08\n",
      "2019-10-14\n",
      "2019-11-11\n",
      "33 dates are missing from our dates list\n"
     ]
    }
   ],
   "source": [
    "count = 0\n",
    "for date in v_sp500['Date']:\n",
    "    if datetime.strptime(date, '%Y-%m-%d').date() not in dates:\n",
    "        print(datetime.strptime(date, '%Y-%m-%d').date())\n",
    "        count +=1\n",
    "         \n",
    "print(count, \"dates are missing from our dates list\")"
   ]
  },
  {
   "cell_type": "markdown",
   "metadata": {},
   "source": [
    "#### they are all holidays that still had the index informed. No problem here."
   ]
  },
  {
   "cell_type": "markdown",
   "metadata": {},
   "source": [
    "\n",
    "### Dates present on our date list but missing from sp500"
   ]
  },
  {
   "cell_type": "code",
   "execution_count": 16,
   "metadata": {},
   "outputs": [
    {
     "name": "stdout",
     "output_type": "stream",
     "text": [
      "0  dates missing from sp500 list\n"
     ]
    }
   ],
   "source": [
    "count = 0\n",
    "for date in dates:\n",
    "    if date.strftime('%Y-%m-%d') not in v_sp500['Date'].unique():\n",
    "        print(date.strftime('%Y-%m-%d'))\n",
    "        count += 1\n",
    "print(count, \" dates missing from sp500 list\")"
   ]
  },
  {
   "cell_type": "markdown",
   "metadata": {},
   "source": [
    "#### The dataset is complete"
   ]
  },
  {
   "cell_type": "markdown",
   "metadata": {},
   "source": [
    "# Analysis for vix index"
   ]
  },
  {
   "cell_type": "markdown",
   "metadata": {},
   "source": [
    "### Are there missing values on the original data?"
   ]
  },
  {
   "cell_type": "code",
   "execution_count": 17,
   "metadata": {},
   "outputs": [
    {
     "data": {
      "text/html": [
       "<div>\n",
       "<style scoped>\n",
       "    .dataframe tbody tr th:only-of-type {\n",
       "        vertical-align: middle;\n",
       "    }\n",
       "\n",
       "    .dataframe tbody tr th {\n",
       "        vertical-align: top;\n",
       "    }\n",
       "\n",
       "    .dataframe thead th {\n",
       "        text-align: right;\n",
       "    }\n",
       "</style>\n",
       "<table border=\"1\" class=\"dataframe\">\n",
       "  <thead>\n",
       "    <tr style=\"text-align: right;\">\n",
       "      <th></th>\n",
       "      <th>Date</th>\n",
       "      <th>Open</th>\n",
       "      <th>High</th>\n",
       "      <th>Low</th>\n",
       "      <th>Close</th>\n",
       "      <th>Adj Close</th>\n",
       "      <th>Volume</th>\n",
       "    </tr>\n",
       "  </thead>\n",
       "  <tbody>\n",
       "    <tr>\n",
       "      <th>5079</th>\n",
       "      <td>2020-03-12</td>\n",
       "      <td>61.459999</td>\n",
       "      <td>76.830002</td>\n",
       "      <td>59.910000</td>\n",
       "      <td>75.470001</td>\n",
       "      <td>75.470001</td>\n",
       "      <td>0</td>\n",
       "    </tr>\n",
       "    <tr>\n",
       "      <th>5080</th>\n",
       "      <td>2020-03-13</td>\n",
       "      <td>65.070000</td>\n",
       "      <td>77.570000</td>\n",
       "      <td>55.169998</td>\n",
       "      <td>57.830002</td>\n",
       "      <td>57.830002</td>\n",
       "      <td>0</td>\n",
       "    </tr>\n",
       "    <tr>\n",
       "      <th>5081</th>\n",
       "      <td>2020-03-16</td>\n",
       "      <td>57.830002</td>\n",
       "      <td>83.559998</td>\n",
       "      <td>57.830002</td>\n",
       "      <td>82.690002</td>\n",
       "      <td>82.690002</td>\n",
       "      <td>0</td>\n",
       "    </tr>\n",
       "    <tr>\n",
       "      <th>5082</th>\n",
       "      <td>2020-03-17</td>\n",
       "      <td>82.690002</td>\n",
       "      <td>84.830002</td>\n",
       "      <td>70.370003</td>\n",
       "      <td>75.910004</td>\n",
       "      <td>75.910004</td>\n",
       "      <td>0</td>\n",
       "    </tr>\n",
       "    <tr>\n",
       "      <th>5083</th>\n",
       "      <td>2020-03-18</td>\n",
       "      <td>69.370003</td>\n",
       "      <td>85.470001</td>\n",
       "      <td>69.370003</td>\n",
       "      <td>76.449997</td>\n",
       "      <td>76.449997</td>\n",
       "      <td>0</td>\n",
       "    </tr>\n",
       "  </tbody>\n",
       "</table>\n",
       "</div>"
      ],
      "text/plain": [
       "            Date       Open       High        Low      Close  Adj Close  \\\n",
       "5079  2020-03-12  61.459999  76.830002  59.910000  75.470001  75.470001   \n",
       "5080  2020-03-13  65.070000  77.570000  55.169998  57.830002  57.830002   \n",
       "5081  2020-03-16  57.830002  83.559998  57.830002  82.690002  82.690002   \n",
       "5082  2020-03-17  82.690002  84.830002  70.370003  75.910004  75.910004   \n",
       "5083  2020-03-18  69.370003  85.470001  69.370003  76.449997  76.449997   \n",
       "\n",
       "      Volume  \n",
       "5079       0  \n",
       "5080       0  \n",
       "5081       0  \n",
       "5082       0  \n",
       "5083       0  "
      ]
     },
     "execution_count": 17,
     "metadata": {},
     "output_type": "execute_result"
    }
   ],
   "source": [
    "v_vix = pd.read_csv('VIX.csv', parse_dates=True)\n",
    "v_vix.tail()"
   ]
  },
  {
   "cell_type": "code",
   "execution_count": 18,
   "metadata": {},
   "outputs": [
    {
     "data": {
      "text/plain": [
       "5084"
      ]
     },
     "execution_count": 18,
     "metadata": {},
     "output_type": "execute_result"
    }
   ],
   "source": [
    "len(v_vix)"
   ]
  },
  {
   "cell_type": "code",
   "execution_count": 19,
   "metadata": {},
   "outputs": [],
   "source": [
    "at_least_one_value_missing = v_vix.apply(lambda x: (len(x)-x.count())>=1, axis=1)"
   ]
  },
  {
   "cell_type": "code",
   "execution_count": 20,
   "metadata": {},
   "outputs": [
    {
     "data": {
      "text/plain": [
       "False    5084\n",
       "dtype: int64"
      ]
     },
     "execution_count": 20,
     "metadata": {},
     "output_type": "execute_result"
    }
   ],
   "source": [
    "at_least_one_value_missing.value_counts()"
   ]
  },
  {
   "cell_type": "markdown",
   "metadata": {},
   "source": [
    "#### There are no missing values on the original data.\n",
    "### Are there missing days on the original data?"
   ]
  },
  {
   "cell_type": "code",
   "execution_count": 21,
   "metadata": {},
   "outputs": [
    {
     "data": {
      "text/plain": [
       "5273"
      ]
     },
     "execution_count": 21,
     "metadata": {},
     "output_type": "execute_result"
    }
   ],
   "source": [
    "num_business_days = len(business_dates)\n",
    "num_business_days"
   ]
  },
  {
   "cell_type": "code",
   "execution_count": 22,
   "metadata": {},
   "outputs": [
    {
     "data": {
      "text/plain": [
       "189"
      ]
     },
     "execution_count": 22,
     "metadata": {},
     "output_type": "execute_result"
    }
   ],
   "source": [
    "difference = num_business_days-len(v_vix)\n",
    "difference"
   ]
  },
  {
   "cell_type": "markdown",
   "metadata": {},
   "source": [
    "#### There are 189 missing business days on the data.\n",
    "### Are those holidays? \n",
    "#### It is possible, since there are 20 years of data and approximately 10 holidays per year in the USA, and a few might have happened in weekends (that are already not being considered)"
   ]
  },
  {
   "cell_type": "code",
   "execution_count": 23,
   "metadata": {},
   "outputs": [
    {
     "name": "stdout",
     "output_type": "stream",
     "text": [
      "Holiday 2000-01-17\n",
      "Holiday 2000-02-21\n",
      "Holiday 2000-04-21\n",
      "Holiday 2000-05-29\n",
      "Holiday 2000-07-04\n",
      "Holiday 2000-09-04\n",
      "Holiday 2000-10-09\n",
      "Holiday 2000-11-23\n",
      "Holiday 2000-12-25\n",
      "Holiday 2001-01-01\n",
      "Holiday 2001-01-15\n",
      "Holiday 2001-02-19\n",
      "Holiday 2001-04-13\n",
      "Holiday 2001-05-28\n",
      "Holiday 2001-07-04\n",
      "Holiday 2001-09-03\n",
      "Holiday 2001-09-11\n",
      "Holiday 2001-09-12\n",
      "Holiday 2001-09-13\n",
      "Holiday 2001-09-14\n",
      "Holiday 2001-10-08\n",
      "Holiday 2001-11-22\n",
      "Holiday 2001-12-25\n",
      "Holiday 2002-01-01\n",
      "Holiday 2002-01-21\n",
      "Holiday 2002-02-18\n",
      "Holiday 2002-03-29\n",
      "Holiday 2002-05-27\n",
      "Holiday 2002-07-04\n",
      "Holiday 2002-09-02\n",
      "Holiday 2002-10-14\n",
      "Holiday 2002-11-11\n",
      "Holiday 2002-11-28\n",
      "Holiday 2002-12-25\n",
      "Holiday 2003-01-01\n",
      "Holiday 2003-01-20\n",
      "Holiday 2003-02-17\n",
      "Holiday 2003-04-18\n",
      "Holiday 2003-05-26\n",
      "Holiday 2003-07-04\n",
      "Holiday 2003-09-01\n",
      "Holiday 2003-10-13\n",
      "Holiday 2003-11-11\n",
      "Holiday 2003-11-27\n",
      "Holiday 2003-12-25\n",
      "Holiday 2004-01-01\n",
      "Holiday 2004-01-19\n",
      "Holiday 2004-02-16\n",
      "Holiday 2004-04-09\n",
      "Holiday 2004-05-31\n",
      "Holiday 2004-06-11\n",
      "Holiday 2004-07-05\n",
      "Holiday 2004-09-06\n",
      "Holiday 2004-10-11\n",
      "Holiday 2004-11-11\n",
      "Holiday 2004-11-25\n",
      "Holiday 2004-12-24\n",
      "Holiday 2005-01-17\n",
      "Holiday 2005-02-21\n",
      "Holiday 2005-03-25\n",
      "Holiday 2005-05-30\n",
      "Holiday 2005-07-04\n",
      "Holiday 2005-09-05\n",
      "Holiday 2005-10-10\n",
      "Holiday 2005-11-11\n",
      "Holiday 2005-11-24\n",
      "Holiday 2005-12-26\n",
      "Holiday 2006-01-02\n",
      "Holiday 2006-01-16\n",
      "Holiday 2006-02-20\n",
      "Holiday 2006-04-14\n",
      "Holiday 2006-05-29\n",
      "Holiday 2006-07-04\n",
      "Holiday 2006-09-04\n",
      "Holiday 2006-10-09\n",
      "Holiday 2006-11-23\n",
      "Holiday 2006-12-25\n",
      "Holiday 2007-01-01\n",
      "Holiday 2007-01-02\n",
      "Holiday 2007-01-15\n",
      "Holiday 2007-02-19\n",
      "Holiday 2007-04-06\n",
      "Holiday 2007-05-28\n",
      "Holiday 2007-07-04\n",
      "Holiday 2007-09-03\n",
      "Holiday 2007-10-08\n",
      "Holiday 2007-11-22\n",
      "Holiday 2007-12-25\n",
      "Holiday 2008-01-01\n",
      "Holiday 2008-01-21\n",
      "Holiday 2008-02-18\n",
      "Holiday 2008-03-21\n",
      "Holiday 2008-05-26\n",
      "Holiday 2008-07-04\n",
      "Holiday 2008-09-01\n",
      "Holiday 2008-10-13\n",
      "Holiday 2008-11-11\n",
      "Holiday 2008-11-27\n",
      "Holiday 2008-12-25\n",
      "Holiday 2009-01-01\n",
      "Holiday 2009-01-19\n",
      "Holiday 2009-02-16\n",
      "Holiday 2009-04-10\n",
      "Holiday 2009-05-25\n",
      "Holiday 2009-07-03\n",
      "Holiday 2009-09-07\n",
      "Holiday 2009-10-12\n",
      "Holiday 2009-11-11\n",
      "Holiday 2009-11-26\n",
      "Holiday 2009-12-25\n",
      "Holiday 2010-01-01\n",
      "Holiday 2010-01-18\n",
      "Holiday 2010-02-15\n",
      "Holiday 2010-04-02\n",
      "Holiday 2010-05-31\n",
      "Holiday 2010-07-05\n",
      "Holiday 2010-09-06\n",
      "Holiday 2010-10-11\n",
      "Holiday 2010-11-11\n",
      "Holiday 2010-11-25\n",
      "Holiday 2010-12-24\n",
      "Holiday 2011-01-17\n",
      "Holiday 2011-02-21\n",
      "Holiday 2011-04-22\n",
      "Holiday 2011-05-30\n",
      "Holiday 2011-07-04\n",
      "Holiday 2011-09-05\n",
      "Holiday 2011-10-10\n",
      "Holiday 2011-11-11\n",
      "Holiday 2011-11-24\n",
      "Holiday 2011-12-26\n",
      "Holiday 2012-01-02\n",
      "Holiday 2012-01-16\n",
      "Holiday 2012-02-20\n",
      "Holiday 2012-04-06\n",
      "Holiday 2012-05-28\n",
      "Holiday 2012-07-04\n",
      "Holiday 2012-09-03\n",
      "Holiday 2012-10-08\n",
      "Holiday 2012-10-29\n",
      "Holiday 2012-10-30\n",
      "Holiday 2012-11-22\n",
      "Holiday 2012-12-25\n",
      "Holiday 2013-01-01\n",
      "Holiday 2013-01-21\n",
      "Holiday 2013-02-18\n",
      "Holiday 2013-03-29\n",
      "Holiday 2013-05-27\n",
      "Holiday 2013-07-04\n",
      "Holiday 2013-09-02\n",
      "Holiday 2013-10-14\n",
      "Holiday 2013-11-11\n",
      "Holiday 2013-11-28\n",
      "Holiday 2013-12-25\n",
      "Holiday 2014-01-01\n",
      "Holiday 2014-01-20\n",
      "Holiday 2014-02-17\n",
      "Holiday 2014-04-18\n",
      "Holiday 2014-05-26\n",
      "Holiday 2014-07-04\n",
      "Holiday 2014-09-01\n",
      "Holiday 2014-10-13\n",
      "Holiday 2014-11-11\n",
      "Holiday 2014-11-27\n",
      "Holiday 2014-12-25\n",
      "Holiday 2015-01-01\n",
      "Holiday 2015-01-19\n",
      "Holiday 2015-02-16\n",
      "Holiday 2015-04-03\n",
      "Holiday 2015-05-25\n",
      "Holiday 2015-07-03\n",
      "Holiday 2015-09-07\n",
      "Holiday 2015-10-12\n",
      "Holiday 2015-11-11\n",
      "Holiday 2015-11-26\n",
      "Holiday 2015-12-25\n",
      "Holiday 2016-01-01\n",
      "Holiday 2016-01-18\n",
      "Holiday 2016-02-15\n",
      "Holiday 2016-03-25\n",
      "Holiday 2016-05-30\n",
      "Holiday 2016-07-04\n",
      "Holiday 2016-09-05\n",
      "Holiday 2016-10-10\n",
      "Holiday 2016-11-11\n",
      "Holiday 2016-11-24\n",
      "Holiday 2016-12-26\n",
      "Holiday 2017-01-02\n",
      "Holiday 2017-01-16\n",
      "Holiday 2017-02-20\n",
      "Holiday 2017-04-14\n",
      "Holiday 2017-05-29\n",
      "Holiday 2017-07-04\n",
      "Holiday 2017-09-04\n",
      "Holiday 2017-10-09\n",
      "Holiday 2017-11-23\n",
      "Holiday 2017-12-25\n",
      "Holiday 2018-01-01\n",
      "Holiday 2018-01-15\n",
      "Holiday 2018-02-19\n",
      "Holiday 2018-03-30\n",
      "Holiday 2018-05-28\n",
      "Holiday 2018-07-04\n",
      "Holiday 2018-09-03\n",
      "Holiday 2018-10-08\n",
      "Holiday 2018-11-22\n",
      "Holiday 2018-12-05\n",
      "Holiday 2018-12-25\n",
      "Holiday 2019-01-01\n",
      "Holiday 2019-01-21\n",
      "Holiday 2019-02-18\n",
      "Holiday 2019-04-19\n",
      "Holiday 2019-05-27\n",
      "Holiday 2019-07-04\n",
      "Holiday 2019-09-02\n",
      "Holiday 2019-10-14\n",
      "Holiday 2019-11-11\n",
      "Holiday 2019-11-28\n",
      "Holiday 2019-12-25\n",
      "Holiday 2020-01-01\n",
      "Holiday 2020-01-20\n",
      "Holiday 2020-02-17\n"
     ]
    }
   ],
   "source": [
    "dates = list()\n",
    "for date in business_dates:\n",
    "    if(date not in list(us_holidays.keys())):\n",
    "        dates.append(date)\n",
    "        #print(\"Not Holiday\", date) \n",
    "    else:\n",
    "        print(\"Holiday\", date) "
   ]
  },
  {
   "cell_type": "code",
   "execution_count": 24,
   "metadata": {},
   "outputs": [
    {
     "data": {
      "text/plain": [
       "5051"
      ]
     },
     "execution_count": 24,
     "metadata": {},
     "output_type": "execute_result"
    }
   ],
   "source": [
    "len(dates)"
   ]
  },
  {
   "cell_type": "code",
   "execution_count": 25,
   "metadata": {},
   "outputs": [
    {
     "data": {
      "text/plain": [
       "222"
      ]
     },
     "execution_count": 25,
     "metadata": {},
     "output_type": "execute_result"
    }
   ],
   "source": [
    "num_business_days-len(dates)"
   ]
  },
  {
   "cell_type": "code",
   "execution_count": 26,
   "metadata": {},
   "outputs": [
    {
     "data": {
      "text/plain": [
       "33"
      ]
     },
     "execution_count": 26,
     "metadata": {},
     "output_type": "execute_result"
    }
   ],
   "source": [
    "len(v_sp500)-len(dates)"
   ]
  },
  {
   "cell_type": "markdown",
   "metadata": {},
   "source": [
    "### Dates present in vix but not on our list date"
   ]
  },
  {
   "cell_type": "code",
   "execution_count": 27,
   "metadata": {
    "scrolled": true
   },
   "outputs": [
    {
     "name": "stdout",
     "output_type": "stream",
     "text": [
      "2000-10-09\n",
      "2001-10-08\n",
      "2002-10-14\n",
      "2002-11-11\n",
      "2003-10-13\n",
      "2003-11-11\n",
      "2004-10-11\n",
      "2004-11-11\n",
      "2005-10-10\n",
      "2005-11-11\n",
      "2006-10-09\n",
      "2007-10-08\n",
      "2008-10-13\n",
      "2008-11-11\n",
      "2009-10-12\n",
      "2009-11-11\n",
      "2010-10-11\n",
      "2010-11-11\n",
      "2011-10-10\n",
      "2011-11-11\n",
      "2012-10-08\n",
      "2013-10-14\n",
      "2013-11-11\n",
      "2014-10-13\n",
      "2014-11-11\n",
      "2015-10-12\n",
      "2015-11-11\n",
      "2016-10-10\n",
      "2016-11-11\n",
      "2017-10-09\n",
      "2018-10-08\n",
      "2019-10-14\n",
      "2019-11-11\n",
      "33 dates are missing from our dates list\n"
     ]
    }
   ],
   "source": [
    "count = 0\n",
    "for date in v_vix['Date']:\n",
    "    if datetime.strptime(date, '%Y-%m-%d').date() not in dates:\n",
    "        print(datetime.strptime(date, '%Y-%m-%d').date())\n",
    "        count +=1\n",
    "         \n",
    "print(count, \"dates are missing from our dates list\")"
   ]
  },
  {
   "cell_type": "markdown",
   "metadata": {},
   "source": [
    "#### they are all holidays that still had the index informed. No problem here."
   ]
  },
  {
   "cell_type": "markdown",
   "metadata": {},
   "source": [
    "\n",
    "### Dates present on our date list but missing from vix"
   ]
  },
  {
   "cell_type": "code",
   "execution_count": 28,
   "metadata": {},
   "outputs": [
    {
     "name": "stdout",
     "output_type": "stream",
     "text": [
      "0  dates missing from vix list\n"
     ]
    }
   ],
   "source": [
    "count = 0\n",
    "for date in dates:\n",
    "    if date.strftime('%Y-%m-%d') not in v_vix['Date'].unique():\n",
    "        print(date.strftime('%Y-%m-%d'))\n",
    "        count += 1\n",
    "print(count, \" dates missing from vix list\")"
   ]
  },
  {
   "cell_type": "markdown",
   "metadata": {},
   "source": [
    "#### The dataset is complete."
   ]
  },
  {
   "cell_type": "markdown",
   "metadata": {},
   "source": [
    "# Analysis for EMV index"
   ]
  },
  {
   "cell_type": "code",
   "execution_count": 29,
   "metadata": {},
   "outputs": [
    {
     "data": {
      "text/html": [
       "<div>\n",
       "<style scoped>\n",
       "    .dataframe tbody tr th:only-of-type {\n",
       "        vertical-align: middle;\n",
       "    }\n",
       "\n",
       "    .dataframe tbody tr th {\n",
       "        vertical-align: top;\n",
       "    }\n",
       "\n",
       "    .dataframe thead th {\n",
       "        text-align: right;\n",
       "    }\n",
       "</style>\n",
       "<table border=\"1\" class=\"dataframe\">\n",
       "  <thead>\n",
       "    <tr style=\"text-align: right;\">\n",
       "      <th></th>\n",
       "      <th>Year</th>\n",
       "      <th>Month</th>\n",
       "      <th>Overall EMV Tracker</th>\n",
       "      <th>Policy-Related EMV Tracker</th>\n",
       "      <th>Infectious Disease EMV Tracker</th>\n",
       "      <th>Macroeconomic News and Outlook EMV Tracker</th>\n",
       "      <th>Macro – Broad Quantity Indicators EMV Tracker</th>\n",
       "      <th>Macro – Inflation EMV Indicator</th>\n",
       "      <th>Macro – Interest Rates EMV Tracker</th>\n",
       "      <th>Macro – Other Financial Indicators EMV Tracker</th>\n",
       "      <th>...</th>\n",
       "      <th>Housing and Land Management EMV Tracker</th>\n",
       "      <th>Other Regulation EMV Tracker</th>\n",
       "      <th>National Security Policy EMV Tracker</th>\n",
       "      <th>Government-Sponsored Enterprises EMV Tracker</th>\n",
       "      <th>Trade Policy EMV Tracker</th>\n",
       "      <th>Healthcare Policy EMV Tracker</th>\n",
       "      <th>Food and Drug Policy EMV Tracker</th>\n",
       "      <th>Transportation, Infrastructure, and Public Utilities EMV Tracker</th>\n",
       "      <th>Elections and Political Governance EMV Tracker</th>\n",
       "      <th>Agricultural Policy EMV Tracker</th>\n",
       "    </tr>\n",
       "  </thead>\n",
       "  <tbody>\n",
       "    <tr>\n",
       "      <th>0</th>\n",
       "      <td>1985</td>\n",
       "      <td>1</td>\n",
       "      <td>11.304017</td>\n",
       "      <td>5.397642</td>\n",
       "      <td>0.322972</td>\n",
       "      <td>8.074298</td>\n",
       "      <td>2.018574</td>\n",
       "      <td>4.037149</td>\n",
       "      <td>4.037149</td>\n",
       "      <td>0.645944</td>\n",
       "      <td>...</td>\n",
       "      <td>0.080743</td>\n",
       "      <td>0.080743</td>\n",
       "      <td>1.049659</td>\n",
       "      <td>0.322972</td>\n",
       "      <td>0.080743</td>\n",
       "      <td>0.484458</td>\n",
       "      <td>0.080743</td>\n",
       "      <td>0.242229</td>\n",
       "      <td>0.161486</td>\n",
       "      <td>0.080743</td>\n",
       "    </tr>\n",
       "    <tr>\n",
       "      <th>1</th>\n",
       "      <td>1985</td>\n",
       "      <td>2</td>\n",
       "      <td>9.461739</td>\n",
       "      <td>4.269774</td>\n",
       "      <td>0.323478</td>\n",
       "      <td>7.278260</td>\n",
       "      <td>1.617391</td>\n",
       "      <td>2.911304</td>\n",
       "      <td>2.911304</td>\n",
       "      <td>0.404348</td>\n",
       "      <td>...</td>\n",
       "      <td>0.080870</td>\n",
       "      <td>0.161739</td>\n",
       "      <td>2.345217</td>\n",
       "      <td>0.323478</td>\n",
       "      <td>0.080870</td>\n",
       "      <td>0.970435</td>\n",
       "      <td>0.000000</td>\n",
       "      <td>0.242609</td>\n",
       "      <td>0.323478</td>\n",
       "      <td>0.080870</td>\n",
       "    </tr>\n",
       "    <tr>\n",
       "      <th>2</th>\n",
       "      <td>1985</td>\n",
       "      <td>3</td>\n",
       "      <td>10.997636</td>\n",
       "      <td>4.873834</td>\n",
       "      <td>0.578823</td>\n",
       "      <td>7.524698</td>\n",
       "      <td>2.149914</td>\n",
       "      <td>3.721005</td>\n",
       "      <td>3.638316</td>\n",
       "      <td>0.248067</td>\n",
       "      <td>...</td>\n",
       "      <td>0.082689</td>\n",
       "      <td>0.413445</td>\n",
       "      <td>0.744201</td>\n",
       "      <td>0.578823</td>\n",
       "      <td>0.165378</td>\n",
       "      <td>0.248067</td>\n",
       "      <td>0.000000</td>\n",
       "      <td>0.000000</td>\n",
       "      <td>0.082689</td>\n",
       "      <td>0.082689</td>\n",
       "    </tr>\n",
       "    <tr>\n",
       "      <th>3</th>\n",
       "      <td>1985</td>\n",
       "      <td>4</td>\n",
       "      <td>9.267448</td>\n",
       "      <td>4.496748</td>\n",
       "      <td>0.142576</td>\n",
       "      <td>7.342671</td>\n",
       "      <td>1.924778</td>\n",
       "      <td>2.423794</td>\n",
       "      <td>3.920844</td>\n",
       "      <td>0.356440</td>\n",
       "      <td>...</td>\n",
       "      <td>0.000000</td>\n",
       "      <td>0.356440</td>\n",
       "      <td>0.712881</td>\n",
       "      <td>0.570305</td>\n",
       "      <td>0.142576</td>\n",
       "      <td>0.071288</td>\n",
       "      <td>0.000000</td>\n",
       "      <td>0.285152</td>\n",
       "      <td>0.142576</td>\n",
       "      <td>0.000000</td>\n",
       "    </tr>\n",
       "    <tr>\n",
       "      <th>4</th>\n",
       "      <td>1985</td>\n",
       "      <td>5</td>\n",
       "      <td>9.836281</td>\n",
       "      <td>4.316045</td>\n",
       "      <td>0.330077</td>\n",
       "      <td>7.459730</td>\n",
       "      <td>2.574597</td>\n",
       "      <td>2.574597</td>\n",
       "      <td>3.960918</td>\n",
       "      <td>0.396092</td>\n",
       "      <td>...</td>\n",
       "      <td>0.066015</td>\n",
       "      <td>0.264061</td>\n",
       "      <td>0.924214</td>\n",
       "      <td>0.462107</td>\n",
       "      <td>0.132031</td>\n",
       "      <td>0.198046</td>\n",
       "      <td>0.132031</td>\n",
       "      <td>0.462107</td>\n",
       "      <td>0.132031</td>\n",
       "      <td>0.000000</td>\n",
       "    </tr>\n",
       "  </tbody>\n",
       "</table>\n",
       "<p>5 rows × 46 columns</p>\n",
       "</div>"
      ],
      "text/plain": [
       "   Year  Month  Overall EMV Tracker  Policy-Related EMV Tracker  \\\n",
       "0  1985      1            11.304017                    5.397642   \n",
       "1  1985      2             9.461739                    4.269774   \n",
       "2  1985      3            10.997636                    4.873834   \n",
       "3  1985      4             9.267448                    4.496748   \n",
       "4  1985      5             9.836281                    4.316045   \n",
       "\n",
       "   Infectious Disease EMV Tracker  Macroeconomic News and Outlook EMV Tracker  \\\n",
       "0                        0.322972                                    8.074298   \n",
       "1                        0.323478                                    7.278260   \n",
       "2                        0.578823                                    7.524698   \n",
       "3                        0.142576                                    7.342671   \n",
       "4                        0.330077                                    7.459730   \n",
       "\n",
       "   Macro – Broad Quantity Indicators EMV Tracker  \\\n",
       "0                                       2.018574   \n",
       "1                                       1.617391   \n",
       "2                                       2.149914   \n",
       "3                                       1.924778   \n",
       "4                                       2.574597   \n",
       "\n",
       "   Macro – Inflation EMV Indicator  Macro – Interest Rates EMV Tracker  \\\n",
       "0                         4.037149                            4.037149   \n",
       "1                         2.911304                            2.911304   \n",
       "2                         3.721005                            3.638316   \n",
       "3                         2.423794                            3.920844   \n",
       "4                         2.574597                            3.960918   \n",
       "\n",
       "   Macro – Other Financial Indicators EMV Tracker  \\\n",
       "0                                        0.645944   \n",
       "1                                        0.404348   \n",
       "2                                        0.248067   \n",
       "3                                        0.356440   \n",
       "4                                        0.396092   \n",
       "\n",
       "                ...                 Housing and Land Management EMV Tracker  \\\n",
       "0               ...                                                0.080743   \n",
       "1               ...                                                0.080870   \n",
       "2               ...                                                0.082689   \n",
       "3               ...                                                0.000000   \n",
       "4               ...                                                0.066015   \n",
       "\n",
       "   Other Regulation EMV Tracker  National Security Policy EMV Tracker   \\\n",
       "0                      0.080743                               1.049659   \n",
       "1                      0.161739                               2.345217   \n",
       "2                      0.413445                               0.744201   \n",
       "3                      0.356440                               0.712881   \n",
       "4                      0.264061                               0.924214   \n",
       "\n",
       "   Government-Sponsored Enterprises EMV Tracker  Trade Policy EMV Tracker  \\\n",
       "0                                      0.322972                  0.080743   \n",
       "1                                      0.323478                  0.080870   \n",
       "2                                      0.578823                  0.165378   \n",
       "3                                      0.570305                  0.142576   \n",
       "4                                      0.462107                  0.132031   \n",
       "\n",
       "   Healthcare Policy EMV Tracker  Food and Drug Policy EMV Tracker  \\\n",
       "0                       0.484458                          0.080743   \n",
       "1                       0.970435                          0.000000   \n",
       "2                       0.248067                          0.000000   \n",
       "3                       0.071288                          0.000000   \n",
       "4                       0.198046                          0.132031   \n",
       "\n",
       "   Transportation, Infrastructure, and Public Utilities EMV Tracker  \\\n",
       "0                                           0.242229                  \n",
       "1                                           0.242609                  \n",
       "2                                           0.000000                  \n",
       "3                                           0.285152                  \n",
       "4                                           0.462107                  \n",
       "\n",
       "   Elections and Political Governance EMV Tracker  \\\n",
       "0                                        0.161486   \n",
       "1                                        0.323478   \n",
       "2                                        0.082689   \n",
       "3                                        0.142576   \n",
       "4                                        0.132031   \n",
       "\n",
       "   Agricultural Policy EMV Tracker  \n",
       "0                         0.080743  \n",
       "1                         0.080870  \n",
       "2                         0.082689  \n",
       "3                         0.000000  \n",
       "4                         0.000000  \n",
       "\n",
       "[5 rows x 46 columns]"
      ]
     },
     "execution_count": 29,
     "metadata": {},
     "output_type": "execute_result"
    }
   ],
   "source": [
    "v_monthly_EMV_index =  pd.read_excel('EMV_Data.xlsx') \n",
    "v_monthly_EMV_index = v_monthly_EMV_index[:-1]\n",
    "v_monthly_EMV_index.head()"
   ]
  },
  {
   "cell_type": "code",
   "execution_count": 30,
   "metadata": {},
   "outputs": [],
   "source": [
    "at_least_one_value_missing = v_monthly_EMV_index.apply(lambda x: (len(x)-x.count())>=1, axis=1)"
   ]
  },
  {
   "cell_type": "code",
   "execution_count": 31,
   "metadata": {},
   "outputs": [
    {
     "data": {
      "text/plain": [
       "False    424\n",
       "dtype: int64"
      ]
     },
     "execution_count": 31,
     "metadata": {},
     "output_type": "execute_result"
    }
   ],
   "source": [
    "at_least_one_value_missing.value_counts()"
   ]
  },
  {
   "cell_type": "code",
   "execution_count": 32,
   "metadata": {},
   "outputs": [
    {
     "data": {
      "text/plain": [
       "(424, 46)"
      ]
     },
     "execution_count": 32,
     "metadata": {},
     "output_type": "execute_result"
    }
   ],
   "source": [
    "v_monthly_EMV_index.shape"
   ]
  },
  {
   "cell_type": "markdown",
   "metadata": {},
   "source": [
    "#### There are no missing values for the emv indexes, but are there missing months?"
   ]
  },
  {
   "cell_type": "code",
   "execution_count": 33,
   "metadata": {},
   "outputs": [
    {
     "name": "stdout",
     "output_type": "stream",
     "text": [
      "1985.0\n",
      "1.0\n"
     ]
    }
   ],
   "source": [
    "print(v_monthly_EMV_index.iloc[0]['Year'])\n",
    "print(v_monthly_EMV_index.iloc[0]['Month'])"
   ]
  },
  {
   "cell_type": "code",
   "execution_count": 34,
   "metadata": {},
   "outputs": [
    {
     "name": "stdout",
     "output_type": "stream",
     "text": [
      "2020.0\n",
      "4.0\n"
     ]
    }
   ],
   "source": [
    "print(v_monthly_EMV_index.iloc[-1]['Year'])\n",
    "print(v_monthly_EMV_index.iloc[-1]['Month'])"
   ]
  },
  {
   "cell_type": "code",
   "execution_count": 35,
   "metadata": {},
   "outputs": [
    {
     "data": {
      "text/plain": [
       "35.0"
      ]
     },
     "execution_count": 35,
     "metadata": {},
     "output_type": "execute_result"
    }
   ],
   "source": [
    "num_years = v_monthly_EMV_index.iloc[-1]['Year'] - v_monthly_EMV_index.iloc[0]['Year']\n",
    "num_years"
   ]
  },
  {
   "cell_type": "code",
   "execution_count": 36,
   "metadata": {},
   "outputs": [
    {
     "data": {
      "text/plain": [
       "424.0"
      ]
     },
     "execution_count": 36,
     "metadata": {},
     "output_type": "execute_result"
    }
   ],
   "source": [
    "num_months = num_years*12 -(v_monthly_EMV_index.iloc[0]['Month']-1) + v_monthly_EMV_index.iloc[-1]['Month']\n",
    "num_months"
   ]
  },
  {
   "cell_type": "markdown",
   "metadata": {},
   "source": [
    "#### Apperently everything is ok, since the number of registries and the number of months between the dates are the same"
   ]
  },
  {
   "cell_type": "code",
   "execution_count": null,
   "metadata": {},
   "outputs": [],
   "source": []
  }
 ],
 "metadata": {
  "kernelspec": {
   "display_name": "Python 3",
   "language": "python",
   "name": "python3"
  },
  "language_info": {
   "codemirror_mode": {
    "name": "ipython",
    "version": 3
   },
   "file_extension": ".py",
   "mimetype": "text/x-python",
   "name": "python",
   "nbconvert_exporter": "python",
   "pygments_lexer": "ipython3",
   "version": "3.6.10"
  }
 },
 "nbformat": 4,
 "nbformat_minor": 4
}
