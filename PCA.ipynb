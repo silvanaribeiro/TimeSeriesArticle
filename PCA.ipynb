{
 "cells": [
  {
   "cell_type": "code",
   "execution_count": 64,
   "metadata": {},
   "outputs": [],
   "source": [
    "import pandas as pd\n",
    "from datetime import datetime\n",
    "import numpy as np\n",
    "from sklearn.decomposition import PCA\n",
    "from sklearn import preprocessing"
   ]
  },
  {
   "cell_type": "code",
   "execution_count": 65,
   "metadata": {},
   "outputs": [],
   "source": [
    "def read_csv(file):\n",
    "    df = pd.read_csv(file, parse_dates=True, index_col=0)\n",
    "    df = df.loc['2000-01-01':'2015-01-01'] #Selecting training data\n",
    "    return df"
   ]
  },
  {
   "cell_type": "code",
   "execution_count": 66,
   "metadata": {},
   "outputs": [],
   "source": [
    "def scale(df):\n",
    "    scaler = preprocessing.StandardScaler()\n",
    "    scaler.fit(df)\n",
    "    array = scaler.transform(df)\n",
    "    df_scaled = pd.DataFrame(data=array, index=df.index, columns=df.columns)\n",
    "    return df_scaled, scaler"
   ]
  },
  {
   "cell_type": "code",
   "execution_count": 67,
   "metadata": {},
   "outputs": [],
   "source": [
    "def descaler(df, scaler):\n",
    "    array = scaler.inverse_transform(df)\n",
    "    df_final = pd.DataFrame(data=array, index=df.index, columns=df.columns)\n",
    "    return df_final"
   ]
  },
  {
   "cell_type": "code",
   "execution_count": 68,
   "metadata": {},
   "outputs": [],
   "source": [
    "def calculate_number_components(df):\n",
    "    pca = PCA(svd_solver='full')\n",
    "    pca.fit(df)\n",
    "    pca.explained_variance_ratio_\n",
    "    explained_var = 0\n",
    "    num_components = 0\n",
    "    for var in pca.explained_variance_ratio_:\n",
    "        explained_var += var\n",
    "        num_components +=1\n",
    "        if explained_var >=0.95:\n",
    "            break\n",
    "\n",
    "    print(explained_var, num_components)\n",
    "    return num_components"
   ]
  },
  {
   "cell_type": "code",
   "execution_count": 69,
   "metadata": {},
   "outputs": [],
   "source": [
    "def apply_pca(df, num_components):\n",
    "    pca = PCA(n_components=num_components)\n",
    "    principalComponents = pca.fit_transform(df)\n",
    "    principalDf = pd.DataFrame(data = principalComponents)\n",
    "    return principalDf"
   ]
  },
  {
   "cell_type": "code",
   "execution_count": 71,
   "metadata": {},
   "outputs": [
    {
     "name": "stdout",
     "output_type": "stream",
     "text": [
      "KNNImputed.csv\n",
      "0.96073254145736 14\n",
      "___________________\n",
      "KNNWeeklyImputed.csv\n",
      "0.9591116414751806 12\n",
      "___________________\n",
      "MeanWeeklyImputed.csv\n",
      "0.9597093637409934 14\n",
      "___________________\n",
      "MeanImputed.csv\n",
      "0.9591078203302558 14\n",
      "___________________\n",
      "MIImputed.csv\n",
      "0.9631230808370136 5\n",
      "___________________\n",
      "MIIWeeklyImputed.csv\n",
      "0.9529938401585641 6\n",
      "___________________\n",
      "MovingAverageWeeklyImputed.csv\n",
      "0.9500378029800636 10\n",
      "___________________\n",
      "MovingAverageWeeklyImputed.csv\n",
      "0.9500378029800636 10\n",
      "___________________\n",
      "RegressionImputed.csv\n",
      "0.9572465199801969 10\n",
      "___________________\n",
      "RegressionWeeklyImputed.csv\n",
      "0.9521290229332674 10\n",
      "___________________\n"
     ]
    }
   ],
   "source": [
    "files = ['KNNImputed.csv', 'KNNWeeklyImputed.csv','MeanWeeklyImputed.csv','MeanImputed.csv', 'MIImputed.csv', 'MIIWeeklyImputed.csv', 'MovingAverageWeeklyImputed.csv', 'MovingAverageWeeklyImputed.csv', 'RegressionImputed.csv', 'RegressionWeeklyImputed.csv']\n",
    "for file in files:\n",
    "    df = read_csv(file)\n",
    "    df_scaled, scaler = scale(df)\n",
    "    print(file)\n",
    "    num_components = calculate_number_components(df_scaled)\n",
    "    print(\"___________________\")\n",
    "    principalDf = apply_pca(df_scaled, num_components)\n",
    "    output = file.split('.')\n",
    "    principalDf.to_csv(output[0]+'PCA.'+output[1], index = True)\n",
    "    "
   ]
  },
  {
   "cell_type": "code",
   "execution_count": null,
   "metadata": {},
   "outputs": [],
   "source": []
  }
 ],
 "metadata": {
  "kernelspec": {
   "display_name": "Python 3",
   "language": "python",
   "name": "python3"
  },
  "language_info": {
   "codemirror_mode": {
    "name": "ipython",
    "version": 3
   },
   "file_extension": ".py",
   "mimetype": "text/x-python",
   "name": "python",
   "nbconvert_exporter": "python",
   "pygments_lexer": "ipython3",
   "version": "3.6.10"
  }
 },
 "nbformat": 4,
 "nbformat_minor": 4
}
