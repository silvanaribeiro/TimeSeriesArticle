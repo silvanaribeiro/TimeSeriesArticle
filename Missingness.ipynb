{
 "cells": [
  {
   "cell_type": "code",
   "execution_count": 1,
   "metadata": {},
   "outputs": [],
   "source": [
    "import pandas as pd\n",
    "import numpy as np\n",
    "import seaborn as sns\n",
    "import matplotlib.pyplot as plt\n",
    "from datetime import date, datetime\n",
    "import holidays"
   ]
  },
  {
   "cell_type": "code",
   "execution_count": 2,
   "metadata": {},
   "outputs": [],
   "source": [
    "business_dates = pd.bdate_range(start='2000-01-03', end='2020-03-18').date\n",
    "business_dates = business_dates.tolist()"
   ]
  },
  {
   "cell_type": "code",
   "execution_count": 3,
   "metadata": {},
   "outputs": [],
   "source": [
    "closed_market_dates = list()\n",
    "years = list(range(2000,2021))\n",
    "us_holidays = holidays.UnitedStates(years = years, expand = False, observed=False)\n",
    "us_holidays[datetime(2019,4,19)] = 'Good Friday'\n",
    "us_holidays[datetime(2018,12,5)] = 'Mourning Bush'\n",
    "us_holidays[datetime(2018,3,30)] = 'Good Friday'\n",
    "us_holidays[datetime(2017,4,14)] = 'Good Friday'\n",
    "us_holidays[datetime(2017,1,2)] = \"New Year's\"\n",
    "us_holidays[datetime(2016,3,25)] = 'Good Friday'\n",
    "us_holidays[datetime(2016,12,26)] = 'Christmas'\n",
    "us_holidays[datetime(2015,7,3)] = 'Independence Day'\n",
    "us_holidays[datetime(2015,4,3)] = 'Good Friday'\n",
    "us_holidays[datetime(2019,4,19)] = 'Good Friday'\n",
    "us_holidays[datetime(2014,4,18)] = 'Good Friday'\n",
    "us_holidays[datetime(2013,3,29)] = 'Good Friday'\n",
    "us_holidays[datetime(2012,10,30)] = 'Hurricane Sandy'\n",
    "us_holidays[datetime(2012,10,29)] = 'Hurricane Sandy'\n",
    "us_holidays[datetime(2012,4,6)] = 'Good Friday'\n",
    "us_holidays[datetime(2012,1,2)] = \"New Year's\"\n",
    "us_holidays[datetime(2011,12,26)] = 'Christmas'\n",
    "us_holidays[datetime(2011,4,22)] = 'Good Friday'\n",
    "us_holidays[datetime(2010,12,24)] = 'Christmas'\n",
    "us_holidays[datetime(2010,7,5)] = 'Independence Day'\n",
    "us_holidays[datetime(2010,4,2)] = 'Good Friday'\n",
    "us_holidays[datetime(2009,7,3)] = 'Independence Day'\n",
    "us_holidays[datetime(2009,4,10)] = 'Good Friday'\n",
    "us_holidays[datetime(2008,3,21)] = 'Good Friday'\n",
    "us_holidays[datetime(2007,4,6)] = 'Good Friday'\n",
    "us_holidays[datetime(2007,1,2)] = 'Mourning Ford'\n",
    "us_holidays[datetime(2006,4,14)] = 'Good Friday'\n",
    "us_holidays[datetime(2006,1,2)] = \"New Year's\"\n",
    "us_holidays[datetime(2005,12,26)] = 'Christmas'\n",
    "us_holidays[datetime(2005,3,25)] = 'Good Friday'\n",
    "us_holidays[datetime(2004,12,24)] = 'Christmas'\n",
    "us_holidays[datetime(2004,7,5)] = 'Independence Day'\n",
    "us_holidays[datetime(2004,6,11)] = 'Mourning Reagan'\n",
    "us_holidays[datetime(2004,4,9)] = 'Good Friday'\n",
    "us_holidays[datetime(2003,4,18)] = 'Good Friday'\n",
    "us_holidays[datetime(2002,3,29)] = 'Good Friday'\n",
    "us_holidays[datetime(2001,9,14)] = '9-11'\n",
    "us_holidays[datetime(2001,9,13)] = '9-11'\n",
    "us_holidays[datetime(2001,9,12)] = '9-11'\n",
    "us_holidays[datetime(2001,9,11)] = '9-11'\n",
    "us_holidays[datetime(2001,4,13)] = 'Good Friday'\n",
    "us_holidays[datetime(2000,4,21)] = 'Good Friday'"
   ]
  },
  {
   "cell_type": "code",
   "execution_count": 4,
   "metadata": {},
   "outputs": [
    {
     "name": "stdout",
     "output_type": "stream",
     "text": [
      "Closed 2000-01-17\n",
      "Closed 2000-02-21\n",
      "Closed 2000-04-21\n",
      "Closed 2000-05-29\n",
      "Closed 2000-07-04\n",
      "Closed 2000-09-04\n",
      "Closed 2000-10-09\n",
      "Closed 2000-11-23\n",
      "Closed 2000-12-25\n",
      "Closed 2001-01-01\n",
      "Closed 2001-01-15\n",
      "Closed 2001-02-19\n",
      "Closed 2001-04-13\n",
      "Closed 2001-05-28\n",
      "Closed 2001-07-04\n",
      "Closed 2001-09-03\n",
      "Closed 2001-09-11\n",
      "Closed 2001-09-12\n",
      "Closed 2001-09-13\n",
      "Closed 2001-09-14\n",
      "Closed 2001-10-08\n",
      "Closed 2001-11-22\n",
      "Closed 2001-12-25\n",
      "Closed 2002-01-01\n",
      "Closed 2002-01-21\n",
      "Closed 2002-02-18\n",
      "Closed 2002-03-29\n",
      "Closed 2002-05-27\n",
      "Closed 2002-07-04\n",
      "Closed 2002-09-02\n",
      "Closed 2002-10-14\n",
      "Closed 2002-11-11\n",
      "Closed 2002-11-28\n",
      "Closed 2002-12-25\n",
      "Closed 2003-01-01\n",
      "Closed 2003-01-20\n",
      "Closed 2003-02-17\n",
      "Closed 2003-04-18\n",
      "Closed 2003-05-26\n",
      "Closed 2003-07-04\n",
      "Closed 2003-09-01\n",
      "Closed 2003-10-13\n",
      "Closed 2003-11-11\n",
      "Closed 2003-11-27\n",
      "Closed 2003-12-25\n",
      "Closed 2004-01-01\n",
      "Closed 2004-01-19\n",
      "Closed 2004-02-16\n",
      "Closed 2004-04-09\n",
      "Closed 2004-05-31\n",
      "Closed 2004-06-11\n",
      "Closed 2004-07-05\n",
      "Closed 2004-09-06\n",
      "Closed 2004-10-11\n",
      "Closed 2004-11-11\n",
      "Closed 2004-11-25\n",
      "Closed 2004-12-24\n",
      "Closed 2005-01-17\n",
      "Closed 2005-02-21\n",
      "Closed 2005-03-25\n",
      "Closed 2005-05-30\n",
      "Closed 2005-07-04\n",
      "Closed 2005-09-05\n",
      "Closed 2005-10-10\n",
      "Closed 2005-11-11\n",
      "Closed 2005-11-24\n",
      "Closed 2005-12-26\n",
      "Closed 2006-01-02\n",
      "Closed 2006-01-16\n",
      "Closed 2006-02-20\n",
      "Closed 2006-04-14\n",
      "Closed 2006-05-29\n",
      "Closed 2006-07-04\n",
      "Closed 2006-09-04\n",
      "Closed 2006-10-09\n",
      "Closed 2006-11-23\n",
      "Closed 2006-12-25\n",
      "Closed 2007-01-01\n",
      "Closed 2007-01-02\n",
      "Closed 2007-01-15\n",
      "Closed 2007-02-19\n",
      "Closed 2007-04-06\n",
      "Closed 2007-05-28\n",
      "Closed 2007-07-04\n",
      "Closed 2007-09-03\n",
      "Closed 2007-10-08\n",
      "Closed 2007-11-22\n",
      "Closed 2007-12-25\n",
      "Closed 2008-01-01\n",
      "Closed 2008-01-21\n",
      "Closed 2008-02-18\n",
      "Closed 2008-03-21\n",
      "Closed 2008-05-26\n",
      "Closed 2008-07-04\n",
      "Closed 2008-09-01\n",
      "Closed 2008-10-13\n",
      "Closed 2008-11-11\n",
      "Closed 2008-11-27\n",
      "Closed 2008-12-25\n",
      "Closed 2009-01-01\n",
      "Closed 2009-01-19\n",
      "Closed 2009-02-16\n",
      "Closed 2009-04-10\n",
      "Closed 2009-05-25\n",
      "Closed 2009-07-03\n",
      "Closed 2009-09-07\n",
      "Closed 2009-10-12\n",
      "Closed 2009-11-11\n",
      "Closed 2009-11-26\n",
      "Closed 2009-12-25\n",
      "Closed 2010-01-01\n",
      "Closed 2010-01-18\n",
      "Closed 2010-02-15\n",
      "Closed 2010-04-02\n",
      "Closed 2010-05-31\n",
      "Closed 2010-07-05\n",
      "Closed 2010-09-06\n",
      "Closed 2010-10-11\n",
      "Closed 2010-11-11\n",
      "Closed 2010-11-25\n",
      "Closed 2010-12-24\n",
      "Closed 2011-01-17\n",
      "Closed 2011-02-21\n",
      "Closed 2011-04-22\n",
      "Closed 2011-05-30\n",
      "Closed 2011-07-04\n",
      "Closed 2011-09-05\n",
      "Closed 2011-10-10\n",
      "Closed 2011-11-11\n",
      "Closed 2011-11-24\n",
      "Closed 2011-12-26\n",
      "Closed 2012-01-02\n",
      "Closed 2012-01-16\n",
      "Closed 2012-02-20\n",
      "Closed 2012-04-06\n",
      "Closed 2012-05-28\n",
      "Closed 2012-07-04\n",
      "Closed 2012-09-03\n",
      "Closed 2012-10-08\n",
      "Closed 2012-10-29\n",
      "Closed 2012-10-30\n",
      "Closed 2012-11-22\n",
      "Closed 2012-12-25\n",
      "Closed 2013-01-01\n",
      "Closed 2013-01-21\n",
      "Closed 2013-02-18\n",
      "Closed 2013-03-29\n",
      "Closed 2013-05-27\n",
      "Closed 2013-07-04\n",
      "Closed 2013-09-02\n",
      "Closed 2013-10-14\n",
      "Closed 2013-11-11\n",
      "Closed 2013-11-28\n",
      "Closed 2013-12-25\n",
      "Closed 2014-01-01\n",
      "Closed 2014-01-20\n",
      "Closed 2014-02-17\n",
      "Closed 2014-04-18\n",
      "Closed 2014-05-26\n",
      "Closed 2014-07-04\n",
      "Closed 2014-09-01\n",
      "Closed 2014-10-13\n",
      "Closed 2014-11-11\n",
      "Closed 2014-11-27\n",
      "Closed 2014-12-25\n",
      "Closed 2015-01-01\n",
      "Closed 2015-01-19\n",
      "Closed 2015-02-16\n",
      "Closed 2015-04-03\n",
      "Closed 2015-05-25\n",
      "Closed 2015-07-03\n",
      "Closed 2015-09-07\n",
      "Closed 2015-10-12\n",
      "Closed 2015-11-11\n",
      "Closed 2015-11-26\n",
      "Closed 2015-12-25\n",
      "Closed 2016-01-01\n",
      "Closed 2016-01-18\n",
      "Closed 2016-02-15\n",
      "Closed 2016-03-25\n",
      "Closed 2016-05-30\n",
      "Closed 2016-07-04\n",
      "Closed 2016-09-05\n",
      "Closed 2016-10-10\n",
      "Closed 2016-11-11\n",
      "Closed 2016-11-24\n",
      "Closed 2016-12-26\n",
      "Closed 2017-01-02\n",
      "Closed 2017-01-16\n",
      "Closed 2017-02-20\n",
      "Closed 2017-04-14\n",
      "Closed 2017-05-29\n",
      "Closed 2017-07-04\n",
      "Closed 2017-09-04\n",
      "Closed 2017-10-09\n",
      "Closed 2017-11-23\n",
      "Closed 2017-12-25\n",
      "Closed 2018-01-01\n",
      "Closed 2018-01-15\n",
      "Closed 2018-02-19\n",
      "Closed 2018-03-30\n",
      "Closed 2018-05-28\n",
      "Closed 2018-07-04\n",
      "Closed 2018-09-03\n",
      "Closed 2018-10-08\n",
      "Closed 2018-11-22\n",
      "Closed 2018-12-05\n",
      "Closed 2018-12-25\n",
      "Closed 2019-01-01\n",
      "Closed 2019-01-21\n",
      "Closed 2019-02-18\n",
      "Closed 2019-04-19\n",
      "Closed 2019-05-27\n",
      "Closed 2019-07-04\n",
      "Closed 2019-09-02\n",
      "Closed 2019-10-14\n",
      "Closed 2019-11-11\n",
      "Closed 2019-11-28\n",
      "Closed 2019-12-25\n",
      "Closed 2020-01-01\n",
      "Closed 2020-01-20\n",
      "Closed 2020-02-17\n"
     ]
    }
   ],
   "source": [
    "for date in business_dates:\n",
    "    if(date not in list(us_holidays.keys())):\n",
    "        closed_market_dates.append(date)\n",
    "    else:\n",
    "        print(\"Closed\", date) "
   ]
  },
  {
   "cell_type": "code",
   "execution_count": 5,
   "metadata": {},
   "outputs": [],
   "source": [
    "def check_for_missingness(df, closed_market_dates, daily=True):\n",
    "    at_least_one_value_missing = df.apply(lambda x: (len(x)-x.count())>=1, axis=1)\n",
    "    out = at_least_one_value_missing.value_counts()\n",
    "    if(out[False]==len(df)):\n",
    "        print('There are no missing values on the original data.')\n",
    "    else:\n",
    "        print('There are ',np.absolute(out[False]-len(df)), ' missing values.')\n",
    "    if(daily):    \n",
    "        count = 0\n",
    "        for date in closed_market_dates:\n",
    "            if date.strftime('%Y-%m-%d') not in df['Date'].unique():\n",
    "                #print(date.strftime('%Y-%m-%d'))\n",
    "                count += 1\n",
    "        print(\"There are\", count, \"dates missing from dataframe.\")"
   ]
  },
  {
   "cell_type": "code",
   "execution_count": 6,
   "metadata": {},
   "outputs": [],
   "source": [
    "v_sp500 = pd.read_csv('S&P500.csv', parse_dates=True)"
   ]
  },
  {
   "cell_type": "code",
   "execution_count": 7,
   "metadata": {
    "scrolled": true
   },
   "outputs": [
    {
     "name": "stdout",
     "output_type": "stream",
     "text": [
      "There are no missing values on the original data.\n",
      "There are 0 dates missing from dataframe.\n"
     ]
    }
   ],
   "source": [
    "check_for_missingness(v_sp500, closed_market_dates)"
   ]
  },
  {
   "cell_type": "code",
   "execution_count": null,
   "metadata": {},
   "outputs": [],
   "source": []
  },
  {
   "cell_type": "code",
   "execution_count": 8,
   "metadata": {},
   "outputs": [],
   "source": [
    "v_vix = pd.read_csv('VIX.csv', parse_dates=True)"
   ]
  },
  {
   "cell_type": "code",
   "execution_count": 9,
   "metadata": {
    "scrolled": true
   },
   "outputs": [
    {
     "name": "stdout",
     "output_type": "stream",
     "text": [
      "There are no missing values on the original data.\n",
      "There are 0 dates missing from dataframe.\n"
     ]
    }
   ],
   "source": [
    "check_for_missingness(v_vix, closed_market_dates)"
   ]
  },
  {
   "cell_type": "code",
   "execution_count": null,
   "metadata": {},
   "outputs": [],
   "source": []
  },
  {
   "cell_type": "code",
   "execution_count": 10,
   "metadata": {},
   "outputs": [],
   "source": [
    "v_dji = pd.read_csv('^DJI.csv', parse_dates=True)"
   ]
  },
  {
   "cell_type": "code",
   "execution_count": 11,
   "metadata": {
    "scrolled": true
   },
   "outputs": [
    {
     "name": "stdout",
     "output_type": "stream",
     "text": [
      "There are no missing values on the original data.\n",
      "There are 0 dates missing from dataframe.\n"
     ]
    }
   ],
   "source": [
    "check_for_missingness(v_dji, closed_market_dates)"
   ]
  },
  {
   "cell_type": "code",
   "execution_count": null,
   "metadata": {},
   "outputs": [],
   "source": []
  },
  {
   "cell_type": "code",
   "execution_count": 12,
   "metadata": {},
   "outputs": [],
   "source": [
    "v_ndx = pd.read_csv('^NDX.csv', parse_dates=True)"
   ]
  },
  {
   "cell_type": "code",
   "execution_count": 13,
   "metadata": {
    "scrolled": true
   },
   "outputs": [
    {
     "name": "stdout",
     "output_type": "stream",
     "text": [
      "There are no missing values on the original data.\n",
      "There are 0 dates missing from dataframe.\n"
     ]
    }
   ],
   "source": [
    "check_for_missingness(v_ndx, closed_market_dates)"
   ]
  },
  {
   "cell_type": "code",
   "execution_count": null,
   "metadata": {},
   "outputs": [],
   "source": []
  },
  {
   "cell_type": "code",
   "execution_count": 14,
   "metadata": {},
   "outputs": [],
   "source": [
    "v_n225 = pd.read_csv('N225.csv', parse_dates=True)"
   ]
  },
  {
   "cell_type": "code",
   "execution_count": 15,
   "metadata": {
    "scrolled": true
   },
   "outputs": [
    {
     "name": "stdout",
     "output_type": "stream",
     "text": [
      "There are  124  missing values.\n",
      "There are 173 dates missing from dataframe.\n"
     ]
    }
   ],
   "source": [
    "check_for_missingness(v_n225, closed_market_dates)"
   ]
  },
  {
   "cell_type": "code",
   "execution_count": null,
   "metadata": {},
   "outputs": [],
   "source": []
  },
  {
   "cell_type": "code",
   "execution_count": 16,
   "metadata": {},
   "outputs": [],
   "source": [
    "v_ftse = pd.read_csv('CompleteFTSE.csv', parse_dates=True)"
   ]
  },
  {
   "cell_type": "code",
   "execution_count": 17,
   "metadata": {
    "scrolled": true
   },
   "outputs": [
    {
     "name": "stdout",
     "output_type": "stream",
     "text": [
      "There are  61  missing values.\n",
      "There are 283 dates missing from dataframe.\n"
     ]
    }
   ],
   "source": [
    "check_for_missingness(v_ftse, closed_market_dates)"
   ]
  },
  {
   "cell_type": "code",
   "execution_count": null,
   "metadata": {},
   "outputs": [],
   "source": []
  },
  {
   "cell_type": "code",
   "execution_count": 18,
   "metadata": {},
   "outputs": [],
   "source": [
    "v_hsi = pd.read_csv('^HSI.csv', parse_dates=True)"
   ]
  },
  {
   "cell_type": "code",
   "execution_count": 19,
   "metadata": {
    "scrolled": true
   },
   "outputs": [
    {
     "name": "stdout",
     "output_type": "stream",
     "text": [
      "There are  84  missing values.\n",
      "There are 165 dates missing from dataframe.\n"
     ]
    }
   ],
   "source": [
    "check_for_missingness(v_hsi, closed_market_dates)"
   ]
  },
  {
   "cell_type": "code",
   "execution_count": null,
   "metadata": {},
   "outputs": [],
   "source": []
  },
  {
   "cell_type": "code",
   "execution_count": 20,
   "metadata": {},
   "outputs": [],
   "source": [
    "v_n100 = pd.read_csv('^N100.csv', parse_dates=True)"
   ]
  },
  {
   "cell_type": "code",
   "execution_count": 21,
   "metadata": {
    "scrolled": true
   },
   "outputs": [
    {
     "name": "stdout",
     "output_type": "stream",
     "text": [
      "There are  32  missing values.\n",
      "There are 37 dates missing from dataframe.\n"
     ]
    }
   ],
   "source": [
    "check_for_missingness(v_n100, closed_market_dates)"
   ]
  },
  {
   "cell_type": "code",
   "execution_count": null,
   "metadata": {},
   "outputs": [],
   "source": []
  },
  {
   "cell_type": "code",
   "execution_count": 22,
   "metadata": {},
   "outputs": [],
   "source": [
    "v_monthly_EMV_index =  pd.read_excel('EMV_Data.xlsx') \n",
    "v_monthly_EMV_index = v_monthly_EMV_index[:-1]"
   ]
  },
  {
   "cell_type": "code",
   "execution_count": 23,
   "metadata": {},
   "outputs": [
    {
     "name": "stdout",
     "output_type": "stream",
     "text": [
      "There are no missing values on the original data.\n"
     ]
    }
   ],
   "source": [
    "check_for_missingness(v_monthly_EMV_index, closed_market_dates, False)"
   ]
  },
  {
   "cell_type": "code",
   "execution_count": null,
   "metadata": {},
   "outputs": [],
   "source": []
  },
  {
   "cell_type": "code",
   "execution_count": 24,
   "metadata": {},
   "outputs": [],
   "source": [
    "v_infectious_EMV_index =  pd.read_csv('All_Infectious_EMV_Data.csv') \n",
    "v_infectious_EMV_index = v_infectious_EMV_index[:-1]"
   ]
  },
  {
   "cell_type": "code",
   "execution_count": 25,
   "metadata": {},
   "outputs": [
    {
     "name": "stdout",
     "output_type": "stream",
     "text": [
      "There are no missing values on the original data.\n"
     ]
    }
   ],
   "source": [
    "check_for_missingness(v_infectious_EMV_index, closed_market_dates, False)"
   ]
  },
  {
   "cell_type": "code",
   "execution_count": null,
   "metadata": {},
   "outputs": [],
   "source": []
  },
  {
   "cell_type": "code",
   "execution_count": 26,
   "metadata": {},
   "outputs": [],
   "source": [
    "v_financial_stress_index =  pd.read_excel('Financial_Stress.xlsx') \n",
    "v_financial_stress_index = v_financial_stress_index[:-1]"
   ]
  },
  {
   "cell_type": "code",
   "execution_count": 27,
   "metadata": {},
   "outputs": [
    {
     "name": "stdout",
     "output_type": "stream",
     "text": [
      "There are no missing values on the original data.\n"
     ]
    }
   ],
   "source": [
    "check_for_missingness(v_financial_stress_index, closed_market_dates, False)"
   ]
  },
  {
   "cell_type": "code",
   "execution_count": null,
   "metadata": {},
   "outputs": [],
   "source": []
  },
  {
   "cell_type": "code",
   "execution_count": 28,
   "metadata": {},
   "outputs": [],
   "source": [
    "v_gpr_index =  pd.read_excel('gpr_web_latest.xlsx') \n",
    "v_gpr_index = v_gpr_index[:-1]"
   ]
  },
  {
   "cell_type": "code",
   "execution_count": 29,
   "metadata": {
    "scrolled": true
   },
   "outputs": [
    {
     "name": "stdout",
     "output_type": "stream",
     "text": [
      "There are no missing values on the original data.\n"
     ]
    }
   ],
   "source": [
    "check_for_missingness(v_gpr_index, closed_market_dates, False)"
   ]
  },
  {
   "cell_type": "code",
   "execution_count": null,
   "metadata": {},
   "outputs": [],
   "source": []
  },
  {
   "cell_type": "code",
   "execution_count": 30,
   "metadata": {},
   "outputs": [],
   "source": [
    "v_trade_uncertainty_index =  pd.read_excel('Trade_Uncertainty_Data.xlsx') \n",
    "v_trade_uncertainty_index = v_trade_uncertainty_index[:-1]"
   ]
  },
  {
   "cell_type": "code",
   "execution_count": 31,
   "metadata": {},
   "outputs": [
    {
     "name": "stdout",
     "output_type": "stream",
     "text": [
      "There are  24  missing values.\n"
     ]
    }
   ],
   "source": [
    "check_for_missingness(v_trade_uncertainty_index, closed_market_dates, False)"
   ]
  },
  {
   "cell_type": "code",
   "execution_count": null,
   "metadata": {},
   "outputs": [],
   "source": []
  },
  {
   "cell_type": "code",
   "execution_count": 32,
   "metadata": {},
   "outputs": [],
   "source": [
    "v_twitter_index =  pd.read_excel('Twitter_Uncertainty.xlsx') \n",
    "v_twitter_index = v_twitter_index[:-1]"
   ]
  },
  {
   "cell_type": "code",
   "execution_count": 33,
   "metadata": {},
   "outputs": [
    {
     "name": "stdout",
     "output_type": "stream",
     "text": [
      "There are no missing values on the original data.\n"
     ]
    }
   ],
   "source": [
    "check_for_missingness(v_twitter_index, closed_market_dates, False)"
   ]
  },
  {
   "cell_type": "code",
   "execution_count": null,
   "metadata": {},
   "outputs": [],
   "source": []
  },
  {
   "cell_type": "code",
   "execution_count": 34,
   "metadata": {},
   "outputs": [],
   "source": [
    "v_wui_index =  pd.read_excel('WUI_Data-1.xlsx') \n",
    "v_wui_index = v_wui_index[:-1]"
   ]
  },
  {
   "cell_type": "code",
   "execution_count": 35,
   "metadata": {},
   "outputs": [
    {
     "ename": "KeyError",
     "evalue": "False",
     "output_type": "error",
     "traceback": [
      "\u001b[1;31m---------------------------------------------------------------------------\u001b[0m",
      "\u001b[1;31mKeyError\u001b[0m                                  Traceback (most recent call last)",
      "\u001b[1;32m<ipython-input-35-d4aa1575f6f3>\u001b[0m in \u001b[0;36m<module>\u001b[1;34m\u001b[0m\n\u001b[1;32m----> 1\u001b[1;33m \u001b[0mcheck_for_missingness\u001b[0m\u001b[1;33m(\u001b[0m\u001b[0mv_wui_index\u001b[0m\u001b[1;33m,\u001b[0m \u001b[0mclosed_market_dates\u001b[0m\u001b[1;33m,\u001b[0m \u001b[1;32mFalse\u001b[0m\u001b[1;33m)\u001b[0m\u001b[1;33m\u001b[0m\u001b[1;33m\u001b[0m\u001b[0m\n\u001b[0m",
      "\u001b[1;32m<ipython-input-5-9388d96a3251>\u001b[0m in \u001b[0;36mcheck_for_missingness\u001b[1;34m(df, closed_market_dates, daily)\u001b[0m\n\u001b[0;32m      2\u001b[0m     \u001b[0mat_least_one_value_missing\u001b[0m \u001b[1;33m=\u001b[0m \u001b[0mdf\u001b[0m\u001b[1;33m.\u001b[0m\u001b[0mapply\u001b[0m\u001b[1;33m(\u001b[0m\u001b[1;32mlambda\u001b[0m \u001b[0mx\u001b[0m\u001b[1;33m:\u001b[0m \u001b[1;33m(\u001b[0m\u001b[0mlen\u001b[0m\u001b[1;33m(\u001b[0m\u001b[0mx\u001b[0m\u001b[1;33m)\u001b[0m\u001b[1;33m-\u001b[0m\u001b[0mx\u001b[0m\u001b[1;33m.\u001b[0m\u001b[0mcount\u001b[0m\u001b[1;33m(\u001b[0m\u001b[1;33m)\u001b[0m\u001b[1;33m)\u001b[0m\u001b[1;33m>=\u001b[0m\u001b[1;36m1\u001b[0m\u001b[1;33m,\u001b[0m \u001b[0maxis\u001b[0m\u001b[1;33m=\u001b[0m\u001b[1;36m1\u001b[0m\u001b[1;33m)\u001b[0m\u001b[1;33m\u001b[0m\u001b[1;33m\u001b[0m\u001b[0m\n\u001b[0;32m      3\u001b[0m     \u001b[0mout\u001b[0m \u001b[1;33m=\u001b[0m \u001b[0mat_least_one_value_missing\u001b[0m\u001b[1;33m.\u001b[0m\u001b[0mvalue_counts\u001b[0m\u001b[1;33m(\u001b[0m\u001b[1;33m)\u001b[0m\u001b[1;33m\u001b[0m\u001b[1;33m\u001b[0m\u001b[0m\n\u001b[1;32m----> 4\u001b[1;33m     \u001b[1;32mif\u001b[0m\u001b[1;33m(\u001b[0m\u001b[0mout\u001b[0m\u001b[1;33m[\u001b[0m\u001b[1;32mFalse\u001b[0m\u001b[1;33m]\u001b[0m\u001b[1;33m==\u001b[0m\u001b[0mlen\u001b[0m\u001b[1;33m(\u001b[0m\u001b[0mdf\u001b[0m\u001b[1;33m)\u001b[0m\u001b[1;33m)\u001b[0m\u001b[1;33m:\u001b[0m\u001b[1;33m\u001b[0m\u001b[1;33m\u001b[0m\u001b[0m\n\u001b[0m\u001b[0;32m      5\u001b[0m         \u001b[0mprint\u001b[0m\u001b[1;33m(\u001b[0m\u001b[1;34m'There are no missing values on the original data.'\u001b[0m\u001b[1;33m)\u001b[0m\u001b[1;33m\u001b[0m\u001b[1;33m\u001b[0m\u001b[0m\n\u001b[0;32m      6\u001b[0m     \u001b[1;32melse\u001b[0m\u001b[1;33m:\u001b[0m\u001b[1;33m\u001b[0m\u001b[1;33m\u001b[0m\u001b[0m\n",
      "\u001b[1;32mC:\\ProgramData\\Anaconda2\\envs\\mestrado\\lib\\site-packages\\pandas\\core\\series.py\u001b[0m in \u001b[0;36m__getitem__\u001b[1;34m(self, key)\u001b[0m\n\u001b[0;32m    765\u001b[0m         \u001b[0mkey\u001b[0m \u001b[1;33m=\u001b[0m \u001b[0mcom\u001b[0m\u001b[1;33m.\u001b[0m\u001b[0m_apply_if_callable\u001b[0m\u001b[1;33m(\u001b[0m\u001b[0mkey\u001b[0m\u001b[1;33m,\u001b[0m \u001b[0mself\u001b[0m\u001b[1;33m)\u001b[0m\u001b[1;33m\u001b[0m\u001b[1;33m\u001b[0m\u001b[0m\n\u001b[0;32m    766\u001b[0m         \u001b[1;32mtry\u001b[0m\u001b[1;33m:\u001b[0m\u001b[1;33m\u001b[0m\u001b[1;33m\u001b[0m\u001b[0m\n\u001b[1;32m--> 767\u001b[1;33m             \u001b[0mresult\u001b[0m \u001b[1;33m=\u001b[0m \u001b[0mself\u001b[0m\u001b[1;33m.\u001b[0m\u001b[0mindex\u001b[0m\u001b[1;33m.\u001b[0m\u001b[0mget_value\u001b[0m\u001b[1;33m(\u001b[0m\u001b[0mself\u001b[0m\u001b[1;33m,\u001b[0m \u001b[0mkey\u001b[0m\u001b[1;33m)\u001b[0m\u001b[1;33m\u001b[0m\u001b[1;33m\u001b[0m\u001b[0m\n\u001b[0m\u001b[0;32m    768\u001b[0m \u001b[1;33m\u001b[0m\u001b[0m\n\u001b[0;32m    769\u001b[0m             \u001b[1;32mif\u001b[0m \u001b[1;32mnot\u001b[0m \u001b[0mis_scalar\u001b[0m\u001b[1;33m(\u001b[0m\u001b[0mresult\u001b[0m\u001b[1;33m)\u001b[0m\u001b[1;33m:\u001b[0m\u001b[1;33m\u001b[0m\u001b[1;33m\u001b[0m\u001b[0m\n",
      "\u001b[1;32mC:\\ProgramData\\Anaconda2\\envs\\mestrado\\lib\\site-packages\\pandas\\core\\indexes\\base.py\u001b[0m in \u001b[0;36mget_value\u001b[1;34m(self, series, key)\u001b[0m\n\u001b[0;32m   3116\u001b[0m         \u001b[1;32mtry\u001b[0m\u001b[1;33m:\u001b[0m\u001b[1;33m\u001b[0m\u001b[1;33m\u001b[0m\u001b[0m\n\u001b[0;32m   3117\u001b[0m             return self._engine.get_value(s, k,\n\u001b[1;32m-> 3118\u001b[1;33m                                           tz=getattr(series.dtype, 'tz', None))\n\u001b[0m\u001b[0;32m   3119\u001b[0m         \u001b[1;32mexcept\u001b[0m \u001b[0mKeyError\u001b[0m \u001b[1;32mas\u001b[0m \u001b[0me1\u001b[0m\u001b[1;33m:\u001b[0m\u001b[1;33m\u001b[0m\u001b[1;33m\u001b[0m\u001b[0m\n\u001b[0;32m   3120\u001b[0m             \u001b[1;32mif\u001b[0m \u001b[0mlen\u001b[0m\u001b[1;33m(\u001b[0m\u001b[0mself\u001b[0m\u001b[1;33m)\u001b[0m \u001b[1;33m>\u001b[0m \u001b[1;36m0\u001b[0m \u001b[1;32mand\u001b[0m \u001b[0mself\u001b[0m\u001b[1;33m.\u001b[0m\u001b[0minferred_type\u001b[0m \u001b[1;32min\u001b[0m \u001b[1;33m[\u001b[0m\u001b[1;34m'integer'\u001b[0m\u001b[1;33m,\u001b[0m \u001b[1;34m'boolean'\u001b[0m\u001b[1;33m]\u001b[0m\u001b[1;33m:\u001b[0m\u001b[1;33m\u001b[0m\u001b[1;33m\u001b[0m\u001b[0m\n",
      "\u001b[1;32mpandas/_libs/index.pyx\u001b[0m in \u001b[0;36mpandas._libs.index.IndexEngine.get_value\u001b[1;34m()\u001b[0m\n",
      "\u001b[1;32mpandas/_libs/index.pyx\u001b[0m in \u001b[0;36mpandas._libs.index.IndexEngine.get_value\u001b[1;34m()\u001b[0m\n",
      "\u001b[1;32mpandas/_libs/index.pyx\u001b[0m in \u001b[0;36mpandas._libs.index.IndexEngine.get_loc\u001b[1;34m()\u001b[0m\n",
      "\u001b[1;32mpandas/_libs/hashtable_class_helper.pxi\u001b[0m in \u001b[0;36mpandas._libs.hashtable.PyObjectHashTable.get_item\u001b[1;34m()\u001b[0m\n",
      "\u001b[1;32mpandas/_libs/hashtable_class_helper.pxi\u001b[0m in \u001b[0;36mpandas._libs.hashtable.PyObjectHashTable.get_item\u001b[1;34m()\u001b[0m\n",
      "\u001b[1;31mKeyError\u001b[0m: False"
     ]
    }
   ],
   "source": [
    "check_for_missingness(v_wui_index, closed_market_dates, False)"
   ]
  },
  {
   "cell_type": "code",
   "execution_count": null,
   "metadata": {},
   "outputs": [],
   "source": []
  }
 ],
 "metadata": {
  "kernelspec": {
   "display_name": "Python 3",
   "language": "python",
   "name": "python3"
  },
  "language_info": {
   "codemirror_mode": {
    "name": "ipython",
    "version": 3
   },
   "file_extension": ".py",
   "mimetype": "text/x-python",
   "name": "python",
   "nbconvert_exporter": "python",
   "pygments_lexer": "ipython3",
   "version": "3.6.10"
  }
 },
 "nbformat": 4,
 "nbformat_minor": 4
}
