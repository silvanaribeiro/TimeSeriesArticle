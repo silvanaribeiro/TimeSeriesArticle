{
 "cells": [
  {
   "cell_type": "code",
   "execution_count": 1,
   "metadata": {},
   "outputs": [
    {
     "ename": "ModuleNotFoundError",
     "evalue": "No module named 'seaborn'",
     "output_type": "error",
     "traceback": [
      "\u001b[1;31m---------------------------------------------------------------------------\u001b[0m",
      "\u001b[1;31mModuleNotFoundError\u001b[0m                       Traceback (most recent call last)",
      "\u001b[1;32m<ipython-input-1-114b4bb00877>\u001b[0m in \u001b[0;36m<module>\u001b[1;34m\u001b[0m\n\u001b[0;32m      1\u001b[0m \u001b[1;32mimport\u001b[0m \u001b[0mpandas\u001b[0m \u001b[1;32mas\u001b[0m \u001b[0mpd\u001b[0m\u001b[1;33m\u001b[0m\u001b[1;33m\u001b[0m\u001b[0m\n\u001b[0;32m      2\u001b[0m \u001b[1;32mimport\u001b[0m \u001b[0mnumpy\u001b[0m \u001b[1;32mas\u001b[0m \u001b[0mnp\u001b[0m\u001b[1;33m\u001b[0m\u001b[1;33m\u001b[0m\u001b[0m\n\u001b[1;32m----> 3\u001b[1;33m \u001b[1;32mimport\u001b[0m \u001b[0mseaborn\u001b[0m \u001b[1;32mas\u001b[0m \u001b[0msns\u001b[0m\u001b[1;33m\u001b[0m\u001b[1;33m\u001b[0m\u001b[0m\n\u001b[0m\u001b[0;32m      4\u001b[0m \u001b[1;32mimport\u001b[0m \u001b[0mmatplotlib\u001b[0m\u001b[1;33m.\u001b[0m\u001b[0mpyplot\u001b[0m \u001b[1;32mas\u001b[0m \u001b[0mplt\u001b[0m\u001b[1;33m\u001b[0m\u001b[1;33m\u001b[0m\u001b[0m\n",
      "\u001b[1;31mModuleNotFoundError\u001b[0m: No module named 'seaborn'"
     ]
    }
   ],
   "source": [
    "import pandas as pd\n",
    "import numpy as np\n",
    "import seaborn as sns\n",
    "import matplotlib.pyplot as plt"
   ]
  },
  {
   "cell_type": "markdown",
   "metadata": {},
   "source": [
    "# Market Regime\n",
    "\n",
    "A ideia é construir um modelo (ou indicador) capaz de detectar mudanças no regime do mercado de renda variável \n",
    "quando este muda de um estado de **baixa** para **media ou alta** volatilidade.\n",
    "\n",
    "Para fins de ilustração, a Figura a seguir mostra as séries históricas de preço e de variações percentuais \n",
    "diárias, de 2000 a 2020, do índice americano S&P500. \n"
   ]
  },
  {
   "cell_type": "code",
   "execution_count": null,
   "metadata": {},
   "outputs": [],
   "source": [
    "v_directory = ''"
   ]
  },
  {
   "cell_type": "code",
   "execution_count": null,
   "metadata": {},
   "outputs": [],
   "source": [
    "v_sp500 = pd.read_csv(v_directory + 'S&P500.csv', parse_dates=True)\n",
    "v_sp500['Date'] = pd.to_datetime(v_sp500['Date'], infer_datetime_format=True)\n",
    "v_sp500.index = v_sp500['Date'].values\n",
    "v_sp500.sort_index(inplace=True)\n",
    "v_sp500.dropna(thresh=4, axis=0, inplace=True)\n",
    "v_sp500.info()\n",
    "\n",
    "v_sp500.head(100)"
   ]
  },
  {
   "cell_type": "code",
   "execution_count": null,
   "metadata": {},
   "outputs": [],
   "source": [
    "v_sp500.tail()"
   ]
  },
  {
   "cell_type": "code",
   "execution_count": null,
   "metadata": {},
   "outputs": [],
   "source": [
    "v_sp500['Close'].plot(style='k', label='SP500 index')\n",
    "plt.legend(loc='best')\n",
    "plt.xlabel('Date')\n",
    "plt.show()"
   ]
  },
  {
   "cell_type": "code",
   "execution_count": null,
   "metadata": {},
   "outputs": [],
   "source": [
    "v_sp500['Close'].pct_change().plot(style='r', label='SP500 daily returns')\n",
    "plt.legend(loc='best')\n",
    "plt.xlabel('Date')\n",
    "plt.show()"
   ]
  },
  {
   "cell_type": "code",
   "execution_count": null,
   "metadata": {},
   "outputs": [],
   "source": [
    "#v_sp500['Close'].pct_change()"
   ]
  },
  {
   "cell_type": "markdown",
   "metadata": {},
   "source": [
    "Observe que a série de retornos diários carrega algumas informações que não parecem tão evidentes \n",
    "na série de preços. Ao longo de todo o período vemos oscilações na faixa de 1.5% a 3.0% ao dia, \n",
    "tanto em níveis positivos quanto negativos, acompanhados de algumas casos mais extremos fora dessa faixa.\n",
    "O estados de **média** e **alta volatilidade** estão associados a estas oscilações mais extremas que ocorrem \n",
    "**fora da faixa** de normalidade.\n",
    "\n",
    "Durante os períodos de crise sistêmica, como em 2008 e também em 2020, percebe-se um aumento \n",
    "significativo na magnitude das oscilações diárias - com variações da ordem de 10% ao dia. Nesses períodos, \n",
    "grandes perdas inicias geralmente vêm acompanhadas de repiques e correções à estas perdas.  \n",
    " \n",
    "Para cada uma dessas grandes oscilações podemos tentar construir uma explicação lógica ou apresentar um \n",
    "fato macroeconômico ou geopolítico, mas na verdade grande parte delas são meramente \n",
    "resultados da atuação excessiva dos agentes no mercado. O fato é que estados anormais de volatilidade \n",
    "refletem incerteza trazendo maior risco para a tomada de decisão do investidor.\n",
    "\n",
    "O mercado de renda variável americano possui um indice que reflete a volatilidade esperada do índice S&P500: \n",
    "**CBOE - VIX**. Ver gráfico a seguir. \n"
   ]
  },
  {
   "cell_type": "code",
   "execution_count": null,
   "metadata": {},
   "outputs": [],
   "source": [
    "v_vix = pd.read_csv(v_directory + '2019-04-19', parse_dates=True)\n",
    "v_vix['Date'] = pd.to_datetime(v_vix['Date'], infer_datetime_format=True)\n",
    "v_vix.index = v_sp500['Date'].values\n",
    "v_vix.sort_index(inplace=True)\n",
    "v_vix = v_vix.drop(columns=['Volume'])\n",
    "v_vix.dropna(thresh=4, axis=0, inplace=True)\n",
    "v_vix.info()\n",
    "\n",
    "v_vix.head(10)"
   ]
  },
  {
   "cell_type": "code",
   "execution_count": null,
   "metadata": {},
   "outputs": [],
   "source": [
    "v_vix['Close'].plot(style='k', label='VIX index')\n",
    "plt.legend(loc='best')\n",
    "plt.xlabel('Date')\n",
    "plt.show()"
   ]
  },
  {
   "cell_type": "code",
   "execution_count": null,
   "metadata": {},
   "outputs": [],
   "source": [
    "v_vix['Close']"
   ]
  },
  {
   "cell_type": "markdown",
   "metadata": {},
   "source": [
    "## Obtendo dados para Análise\n",
    "\n",
    "#### Dados de International Exchanges: **SP500, DOW30, NYSE100, NASDAQ100, CBOE-VIX, etc.**  \n",
    "\n",
    "<ul>\n",
    "<li> estes dados são geralmente obtidos com periodicidade diária. Serão reamostrados para periodicidade semanal, usando a sexta-feira como data de referência da semana.\n",
    "<li> para formação do candle semanal (open, high, low, close, volume), são tomados os seguintes valores na semana:\n",
    "    <ol>\n",
    "    <li>open: valor de abertura do primeiro dia útil da semana</li>\n",
    "    <li>high: valor máximo da semana</li>\n",
    "    <li>low: valor mínimo da semana</li>\n",
    "    <li>close: valor de fechamento do último dia útil da semana</li>\n",
    "    <li>volume: volume agregado da semana</li>\n",
    "    </ol>\n",
    "    \n",
    "<li> Se o valor referente a sexta-feira for faltante, devido a um feriado (dia não útil) por exemplo, então a imputação ocorre substituindo o valor de sexta-feira pelo último dia útil daquela semana, ex. quinta-feira . O mesmo é feito para o primeiro dia útil da semana, caso este seja um dado faltante. <b>Forward Filling</b>\n",
    "</ul>\n",
    "\n",
    "#### Dados de Indicadores de Incerteza baseados em Análise de Sentimentos: **US-EPU Index, Twitter Index, etc.** \n",
    "\n",
    "<ul>\n",
    "    <li> Estes dados geralmente são obtidos numa <b>granularidade diferente, geralmente mensal</b>. Assim, será necessário o uso de mecanismos de imputação (<b>Silvana</b>) para que eles também fiquem com periodicidade semanal. \n",
    "        \n",
    "</ul>"
   ]
  },
  {
   "cell_type": "markdown",
   "metadata": {},
   "source": [
    "### International Exchange Data\n",
    "\n",
    "- Exemplo de Amostragem Semanal"
   ]
  },
  {
   "cell_type": "markdown",
   "metadata": {},
   "source": [
    "### S&P500"
   ]
  },
  {
   "cell_type": "code",
   "execution_count": null,
   "metadata": {},
   "outputs": [],
   "source": [
    "v_sp500_week_start_date = v_sp500.resample('W-FRI').first()['Date']\n",
    "v_sp500_week_end_date = v_sp500.resample('W-FRI').last()['Date']\n",
    "v_sp500_num_of_weeks = min(len(v_sp500_week_start_date), len(v_sp500_week_end_date))\n",
    "\n",
    "v_sp500_weekly_dict = {'date': [], 'open': [], 'high': [], 'low':[], 'close':[], 'volume':[], 'volatility':[]}\n",
    "\n",
    "for i in range(v_sp500_num_of_weeks):\n",
    "    v_sp500_week = v_sp500[v_sp500_week_start_date[i]:v_sp500_week_end_date[i]]\n",
    "    if len(v_sp500_week) > 0:\n",
    "        v_sp500_weekly_dict['date'].append(v_sp500_week_end_date.index[i])\n",
    "        v_sp500_weekly_dict['open'].append(v_sp500_week['Open'][0])\n",
    "        v_sp500_weekly_dict['close'].append(v_sp500_week['Close'][-1])\n",
    "        v_sp500_weekly_dict['high'].append(v_sp500_week['High'].max())\n",
    "        v_sp500_weekly_dict['low'].append(v_sp500_week['Low'].min())\n",
    "        v_sp500_weekly_dict['volume'].append(v_sp500_week['Volume'].sum())\n",
    "        if len(v_sp500_week) == 1:\n",
    "            v_sp500_weekly_dict['volatility'].append(0.0)\n",
    "        else:\n",
    "            v_sp500_weekly_dict['volatility'].append(np.std(v_sp500_week['Close'].pct_change().dropna().values))    \n",
    "\n",
    "v_sp500_weekly = pd.DataFrame.from_dict(v_sp500_weekly_dict)\n",
    "v_sp500_weekly.index = pd.to_datetime(v_sp500_weekly['date'].values)\n",
    "v_sp500_weekly.drop(['date'], axis=1, inplace=True)\n",
    "#v_sp500_weekly = v_sp500_weekly[:-1]\n",
    "\n",
    "v_sp500_weekly.info()\n",
    "\n",
    "\n",
    "v_sp500_weekly.head()\n"
   ]
  },
  {
   "cell_type": "code",
   "execution_count": null,
   "metadata": {},
   "outputs": [],
   "source": [
    "v_sp500_weekly.tail()"
   ]
  },
  {
   "cell_type": "code",
   "execution_count": null,
   "metadata": {},
   "outputs": [],
   "source": [
    "v_sp500_weekly['close'].plot(style='k', label='SP500 index (weekly)')\n",
    "plt.legend(loc='best')\n",
    "plt.xlabel('Date')\n",
    "plt.show()"
   ]
  },
  {
   "cell_type": "code",
   "execution_count": null,
   "metadata": {},
   "outputs": [],
   "source": [
    "v_sp500_weekly['close'].pct_change().plot(style='r', label='SP500 weekly returns')\n",
    "plt.legend(loc='best')\n",
    "plt.xlabel('Date')\n",
    "plt.show()"
   ]
  },
  {
   "cell_type": "code",
   "execution_count": null,
   "metadata": {},
   "outputs": [],
   "source": [
    "v_sp500_weekly['close'].pct_change()"
   ]
  },
  {
   "cell_type": "markdown",
   "metadata": {},
   "source": [
    "### CBOE-VIX"
   ]
  },
  {
   "cell_type": "code",
   "execution_count": null,
   "metadata": {},
   "outputs": [],
   "source": [
    "v_vix_week_start_date = v_vix.resample('W-FRI').first()['Date']\n",
    "v_vix_week_end_date = v_vix.resample('W-FRI').last()['Date']\n",
    "v_vix_num_of_weeks = min(len(v_vix_week_start_date), len(v_vix_week_end_date))\n",
    "\n",
    "v_vix_weekly_dict = {'date': [], 'open': [], 'high': [], 'low':[], 'close':[], 'volatility':[]}\n",
    "\n",
    "for i in range(v_vix_num_of_weeks):\n",
    "    v_vix_week = v_vix[v_vix_week_start_date[i]:v_vix_week_end_date[i]]\n",
    "    if len(v_vix_week) > 0:\n",
    "        v_vix_weekly_dict['date'].append(v_vix_week_end_date.index[i])\n",
    "        v_vix_weekly_dict['open'].append(v_vix_week['Open'][0])\n",
    "        v_vix_weekly_dict['close'].append(v_vix_week['Close'][-1])\n",
    "        v_vix_weekly_dict['high'].append(v_vix_week['High'].max())\n",
    "        v_vix_weekly_dict['low'].append(v_vix_week['Low'].min())\n",
    "        if len(v_vix_week) == 1:\n",
    "            v_vix_weekly_dict['volatility'].append(0.0)\n",
    "        else:\n",
    "            v_vix_weekly_dict['volatility'].append(np.std(v_vix_week['Close'].pct_change().dropna().values))    \n",
    "\n",
    "v_vix_weekly = pd.DataFrame.from_dict(v_vix_weekly_dict)\n",
    "v_vix_weekly.index = pd.to_datetime(v_vix_weekly['date'].values)\n",
    "v_vix_weekly.drop(['date'], axis=1, inplace=True)\n",
    "#v_vix_weekly = v_vix_weekly[:-1]\n",
    "v_vix_weekly.info()\n",
    "\n"
   ]
  },
  {
   "cell_type": "code",
   "execution_count": null,
   "metadata": {},
   "outputs": [],
   "source": [
    "v_vix_weekly['close'].plot(style='k', label='VIX (weekly)')\n",
    "plt.legend(loc='best')\n",
    "plt.xlabel('Date')\n",
    "plt.show()"
   ]
  },
  {
   "cell_type": "code",
   "execution_count": null,
   "metadata": {},
   "outputs": [],
   "source": [
    "v_vix_weekly['close']"
   ]
  },
  {
   "cell_type": "markdown",
   "metadata": {},
   "source": [
    "### TO-DO: Completar para Outras Exchanges ... (apenas repetir o trecho de codigo)"
   ]
  },
  {
   "cell_type": "markdown",
   "metadata": {},
   "source": [
    "## Uncertainty Indicator Data\n",
    "\n",
    "- Exemplo de Amostragem Mensal"
   ]
  },
  {
   "cell_type": "markdown",
   "metadata": {},
   "source": [
    "### US Equity Market Volatility Index\n",
    "\n",
    "see __[US Equity Market Volatility Index\n",
    "](http://www.policyuncertainty.com/EMV_monthly.html)__ for more details\n",
    "\n",
    "This is a newspaper-based Equity Market Volatility (EMV) tracker that moves with the CBOE Volatility Index (VIX) \n",
    "and with the realized volatility of returns on the S&P500. \n",
    "\n",
    "There is also a Policy-Related EMV Tracker and a suite of more than 30 category-specific \n",
    "EMV trackers that quantify the importance of each category in the level of U.S. stock market volatility \n",
    "and its movements over time. The overall and category-specific EMV trackers \n",
    "are monthly and available from January 1985 to the present.\n",
    "\n",
    "### - TO DO: necessário verificar a data em que o index mensal é reportado para sincronizar com as outras time series (semanais)\n"
   ]
  },
  {
   "cell_type": "code",
   "execution_count": null,
   "metadata": {},
   "outputs": [],
   "source": [
    "v_monthly_EMV_index =  pd.read_excel(v_directory + 'EMV_Data.xlsx') \n",
    "v_monthly_EMV_index = v_monthly_EMV_index[:-1]\n",
    "\n",
    "v_monthly_EMV_index['Month'] = v_monthly_EMV_index['Month'].astype('str')\n",
    "v_monthly_EMV_index['Year'] = v_monthly_EMV_index['Year'].astype('str')\n",
    "s = pd.Series('', index=list(range(len(v_monthly_EMV_index))), dtype='str')\n",
    "i = 0\n",
    "for month in v_monthly_EMV_index['Month']:\n",
    "    result =  month.split('.')\n",
    "    if int(result[0]) <= 9:\n",
    "        s[i] = result[1] + result[0]\n",
    "    else:\n",
    "        s[i] = result[0]\n",
    "    i=i+1\n",
    "\n",
    "v_monthly_EMV_index['Date'] = v_monthly_EMV_index['Year'] + '-' + s\n",
    "v_monthly_EMV_index['Date'] = pd.to_datetime(v_monthly_EMV_index['Date'], format='%Y-%m')\n",
    "v_monthly_EMV_index.index = v_monthly_EMV_index['Date'].values\n",
    "v_monthly_EMV_index.sort_index(inplace=True)\n",
    "v_monthly_EMV_index.drop(['Month', 'Year'], axis=1, inplace=True)\n",
    "v_monthly_EMV_index.dropna(thresh=1, axis=0, inplace=True)\n",
    "\n",
    "v_monthly_EMV_index.info()\n"
   ]
  },
  {
   "cell_type": "code",
   "execution_count": null,
   "metadata": {},
   "outputs": [],
   "source": [
    "v_monthly_EMV_index['Overall EMV Tracker'].plot(style='k', label='EMV Tracker (monthly)')\n",
    "plt.legend(loc='best')\n",
    "plt.xlabel('Date')\n",
    "plt.show()\n",
    "\n"
   ]
  },
  {
   "cell_type": "code",
   "execution_count": null,
   "metadata": {},
   "outputs": [],
   "source": []
  },
  {
   "cell_type": "code",
   "execution_count": null,
   "metadata": {},
   "outputs": [],
   "source": []
  },
  {
   "cell_type": "code",
   "execution_count": null,
   "metadata": {},
   "outputs": [],
   "source": []
  }
 ],
 "metadata": {
  "kernelspec": {
   "display_name": "Python 3",
   "language": "python",
   "name": "python3"
  },
  "language_info": {
   "codemirror_mode": {
    "name": "ipython",
    "version": 3
   },
   "file_extension": ".py",
   "mimetype": "text/x-python",
   "name": "python",
   "nbconvert_exporter": "python",
   "pygments_lexer": "ipython3",
   "version": "3.6.10"
  }
 },
 "nbformat": 4,
 "nbformat_minor": 4
}
