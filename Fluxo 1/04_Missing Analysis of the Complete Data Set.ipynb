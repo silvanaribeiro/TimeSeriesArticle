{
 "cells": [
  {
   "cell_type": "markdown",
   "metadata": {},
   "source": [
    "## This notebook analyses missingness of the complete data set, containing all indexes"
   ]
  },
  {
   "cell_type": "code",
   "execution_count": 1,
   "metadata": {},
   "outputs": [],
   "source": [
    "import pandas as pd\n",
    "from datetime import datetime, timedelta"
   ]
  },
  {
   "cell_type": "markdown",
   "metadata": {},
   "source": [
    "### Complete data set with daily granularity"
   ]
  },
  {
   "cell_type": "code",
   "execution_count": 2,
   "metadata": {},
   "outputs": [],
   "source": [
    "complete_index =  pd.read_csv('CompleteIndexes.csv') "
   ]
  },
  {
   "cell_type": "code",
   "execution_count": 3,
   "metadata": {},
   "outputs": [],
   "source": [
    "at_least_one_value_missing = complete_index.apply(lambda x: (len(x)-x.count())>=1, axis=1)"
   ]
  },
  {
   "cell_type": "code",
   "execution_count": 4,
   "metadata": {},
   "outputs": [
    {
     "data": {
      "text/plain": [
       "True    7383\n",
       "dtype: int64"
      ]
     },
     "execution_count": 4,
     "metadata": {},
     "output_type": "execute_result"
    }
   ],
   "source": [
    "at_least_one_value_missing.value_counts()"
   ]
  },
  {
   "cell_type": "code",
   "execution_count": 5,
   "metadata": {},
   "outputs": [
    {
     "name": "stdout",
     "output_type": "stream",
     "text": [
      "<class 'pandas.core.frame.DataFrame'>\n",
      "RangeIndex: 7383 entries, 0 to 7382\n",
      "Data columns (total 23 columns):\n",
      "Unnamed: 0                                 7383 non-null object\n",
      "sp500_Close                                5084 non-null float64\n",
      "sp500_Volume                               5084 non-null float64\n",
      "vix_Close                                  5084 non-null float64\n",
      "vix_Volume                                 5084 non-null float64\n",
      "dji_Close                                  5084 non-null float64\n",
      "dji_Volume                                 5084 non-null float64\n",
      "ndx_Close                                  5084 non-null float64\n",
      "ndx_Volume                                 5084 non-null float64\n",
      "n255_Close                                 4952 non-null float64\n",
      "n255_Volume                                4952 non-null float64\n",
      "ftse_Close                                 4869 non-null float64\n",
      "ftse_Volume                                4869 non-null float64\n",
      "hsi_Close                                  4977 non-null float64\n",
      "hsi_Volume                                 4977 non-null float64\n",
      "n100_Close                                 5166 non-null float64\n",
      "n100_Volume                                5166 non-null float64\n",
      "Overall EMV Tracker                        242 non-null float64\n",
      "infectious_daily_infect_emv_index          7383 non-null float64\n",
      "GPR                                        243 non-null float64\n",
      "trade_US Trade Policy Uncertainty          235 non-null float64\n",
      "trade_Japanese Trade Policy Uncertainty    235 non-null float64\n",
      "trade_Trade Policy EMV Fraction            235 non-null float64\n",
      "dtypes: float64(22), object(1)\n",
      "memory usage: 1.3+ MB\n"
     ]
    }
   ],
   "source": [
    "complete_index.info()"
   ]
  },
  {
   "cell_type": "markdown",
   "metadata": {},
   "source": [
    "#### All samples have missing values as do all features"
   ]
  },
  {
   "cell_type": "markdown",
   "metadata": {},
   "source": [
    "### Complete data set with weekly granularity"
   ]
  },
  {
   "cell_type": "code",
   "execution_count": 7,
   "metadata": {},
   "outputs": [],
   "source": [
    "complete_weekly_index =  pd.read_csv('CompleteWeeklyIndexes.csv') "
   ]
  },
  {
   "cell_type": "code",
   "execution_count": 8,
   "metadata": {},
   "outputs": [],
   "source": [
    "at_least_one_value_missing = complete_weekly_index.apply(lambda x: (len(x)-x.count())>=1, axis=1)"
   ]
  },
  {
   "cell_type": "code",
   "execution_count": 9,
   "metadata": {},
   "outputs": [
    {
     "data": {
      "text/plain": [
       "True    1054\n",
       "dtype: int64"
      ]
     },
     "execution_count": 9,
     "metadata": {},
     "output_type": "execute_result"
    }
   ],
   "source": [
    "at_least_one_value_missing.value_counts()"
   ]
  },
  {
   "cell_type": "code",
   "execution_count": 10,
   "metadata": {},
   "outputs": [
    {
     "name": "stdout",
     "output_type": "stream",
     "text": [
      "<class 'pandas.core.frame.DataFrame'>\n",
      "RangeIndex: 1054 entries, 0 to 1053\n",
      "Data columns (total 23 columns):\n",
      "Unnamed: 0                                 1054 non-null object\n",
      "sp500_Close                                1021 non-null float64\n",
      "sp500_Volume                               1021 non-null float64\n",
      "vix_Close                                  1021 non-null float64\n",
      "vix_Volume                                 1021 non-null float64\n",
      "dji_Close                                  1021 non-null float64\n",
      "dji_Volume                                 1021 non-null float64\n",
      "ndx_Close                                  1021 non-null float64\n",
      "ndx_Volume                                 1021 non-null float64\n",
      "n255_Close                                 1009 non-null float64\n",
      "n255_Volume                                1009 non-null float64\n",
      "ftse_Close                                 978 non-null float64\n",
      "ftse_Volume                                978 non-null float64\n",
      "hsi_Close                                  993 non-null float64\n",
      "hsi_Volume                                 993 non-null float64\n",
      "n100_Close                                 1024 non-null float64\n",
      "n100_Volume                                1024 non-null float64\n",
      "Overall EMV Tracker                        36 non-null float64\n",
      "infectious_daily_infect_emv_index          1054 non-null float64\n",
      "GPR                                        35 non-null float64\n",
      "trade_US Trade Policy Uncertainty          35 non-null float64\n",
      "trade_Japanese Trade Policy Uncertainty    35 non-null float64\n",
      "trade_Trade Policy EMV Fraction            35 non-null float64\n",
      "dtypes: float64(22), object(1)\n",
      "memory usage: 189.5+ KB\n"
     ]
    }
   ],
   "source": [
    "complete_weekly_index.info()"
   ]
  },
  {
   "cell_type": "markdown",
   "metadata": {},
   "source": [
    "#### All samples have missing values as do all features"
   ]
  },
  {
   "cell_type": "code",
   "execution_count": null,
   "metadata": {},
   "outputs": [],
   "source": []
  }
 ],
 "metadata": {
  "kernelspec": {
   "display_name": "Python 3",
   "language": "python",
   "name": "python3"
  },
  "language_info": {
   "codemirror_mode": {
    "name": "ipython",
    "version": 3
   },
   "file_extension": ".py",
   "mimetype": "text/x-python",
   "name": "python",
   "nbconvert_exporter": "python",
   "pygments_lexer": "ipython3",
   "version": "3.6.10"
  }
 },
 "nbformat": 4,
 "nbformat_minor": 4
}
