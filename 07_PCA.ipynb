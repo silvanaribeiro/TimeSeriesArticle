{
 "cells": [
  {
   "cell_type": "markdown",
   "metadata": {},
   "source": [
    "### This notebook applies PCA to every Imputed and Enriched data set "
   ]
  },
  {
   "cell_type": "code",
   "execution_count": 17,
   "metadata": {},
   "outputs": [],
   "source": [
    "import pandas as pd\n",
    "from datetime import datetime\n",
    "import numpy as np\n",
    "from sklearn.decomposition import PCA\n",
    "from sklearn import preprocessing"
   ]
  },
  {
   "cell_type": "code",
   "execution_count": 30,
   "metadata": {},
   "outputs": [],
   "source": [
    "def read_csv(file):\n",
    "    print(file)\n",
    "    df = pd.read_csv(file, parse_dates=True, index_col=0)\n",
    "    return df"
   ]
  },
  {
   "cell_type": "code",
   "execution_count": 19,
   "metadata": {},
   "outputs": [],
   "source": [
    "def scale(df):\n",
    "    scaler = preprocessing.StandardScaler()\n",
    "    scaler.fit(df)\n",
    "    array = scaler.transform(df)\n",
    "    df_scaled = pd.DataFrame(data=array, index=df.index, columns=df.columns)\n",
    "    return df_scaled"
   ]
  },
  {
   "cell_type": "code",
   "execution_count": 20,
   "metadata": {},
   "outputs": [],
   "source": [
    "def descaler(df, scaler):\n",
    "    array = scaler.inverse_transform(df)\n",
    "    df_final = pd.DataFrame(data=array, index=df.index, columns=df.columns)\n",
    "    return df_final"
   ]
  },
  {
   "cell_type": "code",
   "execution_count": 21,
   "metadata": {},
   "outputs": [],
   "source": [
    "def calculate_number_components(df):\n",
    "    pca = PCA(svd_solver='full')\n",
    "    pca.fit(df)\n",
    "    pca.explained_variance_ratio_\n",
    "    explained_var = 0\n",
    "    num_components = 0\n",
    "    for var in pca.explained_variance_ratio_:\n",
    "        explained_var += var\n",
    "        num_components +=1\n",
    "        if explained_var >=0.95:\n",
    "            break\n",
    "\n",
    "    print(explained_var, \" is the percentage of variance explained by \", num_components, \" components.\")\n",
    "    return num_components"
   ]
  },
  {
   "cell_type": "code",
   "execution_count": 22,
   "metadata": {},
   "outputs": [],
   "source": [
    "def apply_pca(df, df_test, num_components):\n",
    "    pca = PCA(n_components=num_components)\n",
    "    pca.fit(df)\n",
    "    principalComponents = pca.transform(df)\n",
    "    principalDf = pd.DataFrame(data = principalComponents)\n",
    "    principalComponents_test = pca.transform(df_test)\n",
    "    principalDf_test = pd.DataFrame(data = principalComponents_test)\n",
    "    return principalDf, principalDf_test"
   ]
  },
  {
   "cell_type": "code",
   "execution_count": 34,
   "metadata": {},
   "outputs": [
    {
     "name": "stdout",
     "output_type": "stream",
     "text": [
      "KNNImputed.csv\n",
      "KNNImputed_test.csv\n",
      "(1903, 22)\n",
      "0.96073254145736  is the percentage of variance explained by  14  components.\n",
      "___________________\n",
      "KNNWeeklyImputed.csv\n",
      "KNNWeeklyImputed_test.csv\n",
      "(272, 22)\n",
      "0.9591116414751806  is the percentage of variance explained by  12  components.\n",
      "___________________\n",
      "MeanWeeklyImputed.csv\n",
      "MeanWeeklyImputed_test.csv\n",
      "(272, 22)\n",
      "0.9597093637409934  is the percentage of variance explained by  14  components.\n",
      "___________________\n",
      "MeanImputed.csv\n",
      "MeanImputed_test.csv\n",
      "(1903, 22)\n",
      "0.9591078203302558  is the percentage of variance explained by  14  components.\n",
      "___________________\n",
      "MIImputed.csv\n",
      "MIImputed_test.csv\n",
      "(1903, 44)\n",
      "0.9631230808370136  is the percentage of variance explained by  5  components.\n",
      "___________________\n",
      "MIIWeeklyImputed.csv\n",
      "MIIWeeklyImputed_test.csv\n",
      "(272, 44)\n",
      "0.9529938401585641  is the percentage of variance explained by  6  components.\n",
      "___________________\n",
      "MovingAverageWeeklyImputed.csv\n",
      "MovingAverageWeeklyImputed_test.csv\n",
      "(272, 22)\n",
      "0.9500378029800636  is the percentage of variance explained by  10  components.\n",
      "___________________\n",
      "MovingAverageWeeklyImputed.csv\n",
      "MovingAverageWeeklyImputed_test.csv\n",
      "(272, 22)\n",
      "0.9500378029800636  is the percentage of variance explained by  10  components.\n",
      "___________________\n",
      "RegressionImputed.csv\n",
      "RegressionImputed_test.csv\n",
      "(1903, 22)\n",
      "0.9572465199801969  is the percentage of variance explained by  10  components.\n",
      "___________________\n",
      "RegressionWeeklyImputed.csv\n",
      "RegressionWeeklyImputed_test.csv\n",
      "(272, 22)\n",
      "0.9521290229332674  is the percentage of variance explained by  10  components.\n",
      "___________________\n"
     ]
    }
   ],
   "source": [
    "files = ['KNNImputed.csv', 'KNNWeeklyImputed.csv','MeanWeeklyImputed.csv','MeanImputed.csv', 'MIImputed.csv', 'MIIWeeklyImputed.csv', 'MovingAverageWeeklyImputed.csv', 'MovingAverageImputed.csv', 'RegressionImputed.csv', 'RegressionWeeklyImputed.csv']\n",
    "#files = ['KNNWeeklyImputed','MeanWeeklyImputed', 'MIIWeeklyImputed', 'MovingAverageWeeklyImputed', 'MovingAverageImputed', 'RegressionImputed', 'RegressionWeeklyImputed']\n",
    "for file in files:\n",
    "    df = read_csv(file)\n",
    "    test_data = file.split('.')\n",
    "    df_test = read_csv(test_data[0] + '_test.' + test_data[1])\n",
    "    print(df_test.shape)\n",
    "    df_scaled = scale(df)\n",
    "    df_test_scaled = scale(df_test)\n",
    "    \n",
    "    num_components = calculate_number_components(df_scaled)\n",
    "    print(\"___________________\")\n",
    "    principalDf, testDf = apply_pca(df_scaled, df_test_scaled, num_components)\n",
    "    output = file.split('.')\n",
    "    principalDf.to_csv(output[0] + 'PCA.' + output[1], index = True)\n",
    "    testDf.to_csv(output[0] + 'PCA_test.' + output[1], index = True)\n",
    "    "
   ]
  },
  {
   "cell_type": "code",
   "execution_count": null,
   "metadata": {},
   "outputs": [],
   "source": []
  }
 ],
 "metadata": {
  "kernelspec": {
   "display_name": "Python 3",
   "language": "python",
   "name": "python3"
  },
  "language_info": {
   "codemirror_mode": {
    "name": "ipython",
    "version": 3
   },
   "file_extension": ".py",
   "mimetype": "text/x-python",
   "name": "python",
   "nbconvert_exporter": "python",
   "pygments_lexer": "ipython3",
   "version": "3.6.10"
  }
 },
 "nbformat": 4,
 "nbformat_minor": 4
}
